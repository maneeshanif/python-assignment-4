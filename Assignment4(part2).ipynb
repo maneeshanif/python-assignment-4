{
  "nbformat": 4,
  "nbformat_minor": 0,
  "metadata": {
    "colab": {
      "provenance": [],
      "toc_visible": true,
      "authorship_tag": "ABX9TyO+lAdJPjaV5Vp/B3DdrJm/",
      "include_colab_link": true
    },
    "kernelspec": {
      "name": "python3",
      "display_name": "Python 3"
    },
    "language_info": {
      "name": "python"
    }
  },
  "cells": [
    {
      "cell_type": "markdown",
      "metadata": {
        "id": "view-in-github",
        "colab_type": "text"
      },
      "source": [
        "<a href=\"https://colab.research.google.com/github/maneeshanif/python-assignment-4/blob/main/Assignment4(part2).ipynb\" target=\"_parent\"><img src=\"https://colab.research.google.com/assets/colab-badge.svg\" alt=\"Open In Colab\"/></a>"
      ]
    },
    {
      "cell_type": "markdown",
      "source": [
        "#01_basics"
      ],
      "metadata": {
        "id": "Q1jDlOihddJr"
      }
    },
    {
      "cell_type": "markdown",
      "source": [
        "##00_joke_bot"
      ],
      "metadata": {
        "id": "d87xibYYdfGx"
      }
    },
    {
      "cell_type": "code",
      "source": [
        "PROMPT: str = \"What do you want? \"\n",
        "JOKE: str = \"Here is a joke for you! Sophia is heading out to the grocery store. A programmer tells her: get a liter of milk, and if they have eggs, get 12. Sophia returns with 13 liters of milk. The programmer asks why and Sophia replies: 'because they had eggs'\"\n",
        "SORRY: str = \"Sorry I only tell jokes.\"\n",
        "def main():\n",
        "  user_input = input(PROMPT).lower()\n",
        "  if user_input == \"joke\":\n",
        "    print(JOKE)\n",
        "  else:\n",
        "    print(SORRY)\n",
        "\n",
        "if __name__ == \"__main__\":\n",
        "  main()"
      ],
      "metadata": {
        "colab": {
          "base_uri": "https://localhost:8080/"
        },
        "id": "lE-X8ReDdmGf",
        "outputId": "d9c11029-9545-48af-f3b8-ddc6b0749083"
      },
      "execution_count": 3,
      "outputs": [
        {
          "output_type": "stream",
          "name": "stdout",
          "text": [
            "What do you want? joke\n",
            "Here is a joke for you! Sophia is heading out to the grocery store. A programmer tells her: get a liter of milk, and if they have eggs, get 12. Sophia returns with 13 liters of milk. The programmer asks why and Sophia replies: 'because they had eggs'\n"
          ]
        }
      ]
    },
    {
      "cell_type": "markdown",
      "source": [
        "##01_double_it"
      ],
      "metadata": {
        "id": "lmRBTZuCeIs4"
      }
    },
    {
      "cell_type": "code",
      "source": [
        "def paisa_double():\n",
        "  max_lim = 100\n",
        "  user_money = int(input(\"Enter a number (amount) to double it\"))\n",
        "  while  user_money < max_lim:\n",
        "    user_money *= 2\n",
        "    print(user_money , end=\" \")\n",
        "\n",
        "if __name__ == \"__main__\":\n",
        "  paisa_double()"
      ],
      "metadata": {
        "colab": {
          "base_uri": "https://localhost:8080/"
        },
        "id": "edLsNpiTeRTw",
        "outputId": "4aa21991-0166-45d1-f929-db780ba0b352"
      },
      "execution_count": 4,
      "outputs": [
        {
          "output_type": "stream",
          "name": "stdout",
          "text": [
            "Enter a number (amount) to double it5\n",
            "10 20 40 80 160 "
          ]
        }
      ]
    },
    {
      "cell_type": "markdown",
      "source": [
        "##02_liftoff"
      ],
      "metadata": {
        "id": "YEnN8tDCe1QF"
      }
    },
    {
      "cell_type": "code",
      "source": [
        "import time\n",
        "def main():\n",
        "  for rev_count in range(10,0,-1):\n",
        "    print( rev_count, end=\" \")\n",
        "    time.sleep(1)\n",
        "    # print(10 - rev_count, end=\" \")\n",
        "    if rev_count == 1:\n",
        "      print(\"Liftoff 🚀\")\n",
        "\n",
        "\n",
        "if __name__ == \"__main__\":\n",
        "  main()"
      ],
      "metadata": {
        "colab": {
          "base_uri": "https://localhost:8080/"
        },
        "id": "qgvFOSM0e712",
        "outputId": "993ea5dd-cf2c-476f-e713-e9576713ba8b"
      },
      "execution_count": 5,
      "outputs": [
        {
          "output_type": "stream",
          "name": "stdout",
          "text": [
            "10 9 8 7 6 5 4 3 2 1 Liftoff 🚀\n"
          ]
        }
      ]
    },
    {
      "cell_type": "markdown",
      "source": [
        "##03_guess_my_number"
      ],
      "metadata": {
        "id": "npJpNIQdfFWI"
      }
    },
    {
      "cell_type": "code",
      "source": [
        "import random\n",
        "\n",
        "def main():\n",
        "  random_num = random.randint(1, 100)\n",
        "  user_guess = int(input(\"Guess a number between 1 and 100: \"))\n",
        "  while user_guess != random_num:\n",
        "    if user_guess < random_num:\n",
        "      print(\"Too low! Try again❌.\")\n",
        "    else:\n",
        "      print(\"Too high! Try again.❌\")\n",
        "    user_guess = int(input(\"Guess again: \"))\n",
        "  print(\"Congratulations! You guessed the number✅!\")\n",
        "\n",
        "if __name__ == \"__main__\":\n",
        "  main()"
      ],
      "metadata": {
        "colab": {
          "base_uri": "https://localhost:8080/"
        },
        "id": "KHtJTVjVfJ39",
        "outputId": "132cbcec-fccf-4240-e0eb-3eda2bee85ae"
      },
      "execution_count": 6,
      "outputs": [
        {
          "output_type": "stream",
          "name": "stdout",
          "text": [
            "Guess a number between 1 and 100: 34\n",
            "Too high! Try again.\n",
            "Guess again: 4\n",
            "Too low! Try again.\n",
            "Guess again: 32\n",
            "Too high! Try again.\n",
            "Guess again: 21\n",
            "Too high! Try again.\n",
            "Guess again: 17\n",
            "Too high! Try again.\n",
            "Guess again: 13\n",
            "Too low! Try again.\n",
            "Guess again: 15\n",
            "Too high! Try again.\n",
            "Guess again: 14\n",
            "Congratulations! You guessed the number!\n"
          ]
        }
      ]
    },
    {
      "cell_type": "markdown",
      "source": [
        "##04_random_numbers"
      ],
      "metadata": {
        "id": "qISTQIQwft-k"
      }
    },
    {
      "cell_type": "code",
      "source": [
        "import random\n",
        "def main():\n",
        "  for _ in range(10):\n",
        "    random_num = random.randint(1,100)\n",
        "    print(random_num, end=\" \")\n",
        "\n",
        "if __name__ == \"__main__\":\n",
        "  main()\n"
      ],
      "metadata": {
        "colab": {
          "base_uri": "https://localhost:8080/"
        },
        "id": "RqzYBgVJf0mD",
        "outputId": "055f4842-ce4a-48d4-fe77-1f467e3b742d"
      },
      "execution_count": 14,
      "outputs": [
        {
          "output_type": "stream",
          "name": "stdout",
          "text": [
            "28 43 7 98 82 37 13 25 80 45 "
          ]
        }
      ]
    }
  ]
}