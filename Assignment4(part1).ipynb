{
  "nbformat": 4,
  "nbformat_minor": 0,
  "metadata": {
    "colab": {
      "provenance": [],
      "authorship_tag": "ABX9TyMRKMY1u6tAeam6wA7b8IWw",
      "include_colab_link": true
    },
    "kernelspec": {
      "name": "python3",
      "display_name": "Python 3"
    },
    "language_info": {
      "name": "python"
    }
  },
  "cells": [
    {
      "cell_type": "markdown",
      "metadata": {
        "id": "view-in-github",
        "colab_type": "text"
      },
      "source": [
        "<a href=\"https://colab.research.google.com/github/maneeshanif/python-assignment-4/blob/main/Assignment4(part1).ipynb\" target=\"_parent\"><img src=\"https://colab.research.google.com/assets/colab-badge.svg\" alt=\"Open In Colab\"/></a>"
      ]
    },
    {
      "cell_type": "markdown",
      "source": [
        "## 00_intro_python\n",
        "\n"
      ],
      "metadata": {
        "id": "RRKE8v3ShKBD"
      }
    },
    {
      "cell_type": "markdown",
      "source": [
        "## 01_add_two_numbers"
      ],
      "metadata": {
        "id": "mHilhfQPhdWN"
      }
    },
    {
      "cell_type": "code",
      "source": [
        "def main():\n",
        "  print(\"Simple Calculator for those who have issues with addition🤔\")\n",
        "  num1: int = input(\"Enter First Number\")\n",
        "  num2: int = input(\"Enter Second Number\")\n",
        "  result:int = int(num1) + int(num2)\n",
        "  print(f\"The sum of {num1} and {num2} is {result}🤯\")\n",
        "\n",
        "if __name__ == \"__main__\":\n",
        "  main()"
      ],
      "metadata": {
        "id": "pHV2joghhgOe"
      },
      "execution_count": null,
      "outputs": []
    },
    {
      "cell_type": "markdown",
      "source": [
        "## 02_agreement_bot"
      ],
      "metadata": {
        "id": "BfBd5q3SiPuR"
      }
    },
    {
      "cell_type": "code",
      "source": [
        "def main():\n",
        "  print(\"This program can easily guess ur favorite Animal😎\")\n",
        "  fvt_animal:str = input(\"What's your favorite animal?\")\n",
        "  print(f\"My favorite animal is also {fvt_animal}!\")\n",
        "\n",
        "if __name__ == \"__main__\":\n",
        "  main()"
      ],
      "metadata": {
        "colab": {
          "base_uri": "https://localhost:8080/"
        },
        "id": "QyFwQfbvigye",
        "outputId": "bf731b5f-d244-467f-ea81-68b9257949db"
      },
      "execution_count": 2,
      "outputs": [
        {
          "output_type": "stream",
          "name": "stdout",
          "text": [
            "This program can easily guess ur favorite Animal😎\n",
            "What's your favorite animal?cow\n",
            "My favorite animal is also cow!\n"
          ]
        }
      ]
    }
  ]
}