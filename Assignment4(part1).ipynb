{
  "nbformat": 4,
  "nbformat_minor": 0,
  "metadata": {
    "colab": {
      "provenance": [],
      "toc_visible": true,
      "gpuType": "T4",
      "authorship_tag": "ABX9TyMeiY1GC+D+n48ROOeKndSh",
      "include_colab_link": true
    },
    "kernelspec": {
      "name": "python3",
      "display_name": "Python 3"
    },
    "language_info": {
      "name": "python"
    },
    "accelerator": "GPU"
  },
  "cells": [
    {
      "cell_type": "markdown",
      "metadata": {
        "id": "view-in-github",
        "colab_type": "text"
      },
      "source": [
        "<a href=\"https://colab.research.google.com/github/maneeshanif/python-assignment-4/blob/main/Assignment4(part1).ipynb\" target=\"_parent\"><img src=\"https://colab.research.google.com/assets/colab-badge.svg\" alt=\"Open In Colab\"/></a>"
      ]
    },
    {
      "cell_type": "markdown",
      "source": [
        "# 00_intro_python\n",
        "\n"
      ],
      "metadata": {
        "id": "RRKE8v3ShKBD"
      }
    },
    {
      "cell_type": "markdown",
      "source": [
        "## 01_add_two_numbers"
      ],
      "metadata": {
        "id": "mHilhfQPhdWN"
      }
    },
    {
      "cell_type": "code",
      "source": [
        "def main():\n",
        "  print(\"Simple Calculator for those who have issues with addition🤔\")\n",
        "  num1: int = input(\"Enter First Number\")\n",
        "  num2: int = input(\"Enter Second Number\")\n",
        "  result:int = int(num1) + int(num2)\n",
        "  print(f\"The sum of {num1} and {num2} is {result}🤯\")\n",
        "\n",
        "if __name__ == \"__main__\":\n",
        "  main()"
      ],
      "metadata": {
        "id": "pHV2joghhgOe"
      },
      "execution_count": null,
      "outputs": []
    },
    {
      "cell_type": "markdown",
      "source": [
        "## 02_agreement_bot"
      ],
      "metadata": {
        "id": "BfBd5q3SiPuR"
      }
    },
    {
      "cell_type": "code",
      "source": [
        "def main():\n",
        "  print(\"This program can easily guess ur favorite Animal😎\")\n",
        "  fvt_animal:str = input(\"What's your favorite animal?\")\n",
        "  print(f\"My favorite animal is also {fvt_animal}!\")\n",
        "\n",
        "if __name__ == \"__main__\":\n",
        "  main()"
      ],
      "metadata": {
        "id": "QyFwQfbvigye"
      },
      "execution_count": null,
      "outputs": []
    },
    {
      "cell_type": "markdown",
      "source": [
        "## 03_fahrenheit_to_celsius\n",
        "\n"
      ],
      "metadata": {
        "id": "r0xtvYpAweBc"
      }
    },
    {
      "cell_type": "code",
      "source": [
        "def main():\n",
        "  print(\"Fahrenheit to Celsius Convertor 🕯️\")\n",
        "  fahrenheit:int = input(\"Enter temperature in Fahrenheit\")\n",
        "  celsius = (int(fahrenheit) - 32) * 5/9\n",
        "  print(f\"Temperature: {fahrenheit} F = {celsius} C\")\n",
        "\n",
        "if __name__ == \"__main__\":\n",
        "  main()\n"
      ],
      "metadata": {
        "id": "T5AvraGjwi_t",
        "colab": {
          "base_uri": "https://localhost:8080/"
        },
        "outputId": "94c77653-ed47-46ef-c4ab-3e2f9f6fefcf"
      },
      "execution_count": null,
      "outputs": [
        {
          "output_type": "stream",
          "name": "stdout",
          "text": [
            "Fahrenheit to Celsius Convertor 🕯️\n",
            "Enter temperature in Fahrenheit76\n",
            "Temperature: 76 F = 24.444444444444443 C\n"
          ]
        }
      ]
    },
    {
      "cell_type": "markdown",
      "source": [],
      "metadata": {
        "id": "bvFMG_BtD4JP"
      }
    },
    {
      "cell_type": "markdown",
      "source": [
        "##04_how_old_are_they"
      ],
      "metadata": {
        "id": "EGIhh85UIazG"
      }
    },
    {
      "cell_type": "code",
      "source": [
        "def main():\n",
        "  print(\"how old are they 🧓🏻\")\n",
        "  Anton = 21\n",
        "  Beth = Anton + 6\n",
        "  Chen = Beth + 20\n",
        "  Drew = Chen + Anton\n",
        "  Ethan = Chen\n",
        "  print(f\"Anton is {Anton} years old\")\n",
        "  print(f\"Beth is {Beth} years old\")\n",
        "  print(f\"Chen is {Chen} years old\")\n",
        "  print(f\"Drew is {Drew} years old\")\n",
        "  print(f\"Ethan is {Ethan} years old\")\n",
        "\n",
        "if __name__ == \"__main__\":\n",
        "  main()\n"
      ],
      "metadata": {
        "colab": {
          "base_uri": "https://localhost:8080/"
        },
        "id": "8dLb-LzZIjVQ",
        "outputId": "c84c3cc6-402b-417c-d927-319a5298c1b2"
      },
      "execution_count": null,
      "outputs": [
        {
          "output_type": "stream",
          "name": "stdout",
          "text": [
            "how old are they 🧓🏻\n",
            "Anton is 21 years old\n",
            "Beth is 27 years old\n",
            "Chen is 47 years old\n",
            "Drew is 68 years old\n",
            "Ethan is 47 years old\n"
          ]
        }
      ]
    },
    {
      "cell_type": "markdown",
      "source": [
        "##05_triangle_perimeter\n"
      ],
      "metadata": {
        "id": "XxB12JPVKIu4"
      }
    },
    {
      "cell_type": "code",
      "source": [
        "def main():\n",
        "  print(\"Triangle Perimeter Calculator 🔺\")\n",
        "  side_a = int(input(\"What is the length of side 1 aka (a)?\"))\n",
        "  side_b = int(input(\"What is the length of side 2 aka (b)?\"))\n",
        "  side_c = int(input(\"What is the length of side 3 aka (c)?\"))\n",
        "  perimeter:int = side_a + side_b + side_c\n",
        "  print(f\"The perimeter of the triangle is {perimeter} units\")\n",
        "if __name__ == \"__main__\":\n",
        "  main()"
      ],
      "metadata": {
        "colab": {
          "base_uri": "https://localhost:8080/"
        },
        "id": "4MAFedG7KSf5",
        "outputId": "adcd0051-4f1b-44c9-b99e-a61e70a4a844"
      },
      "execution_count": null,
      "outputs": [
        {
          "output_type": "stream",
          "name": "stdout",
          "text": [
            "Triangle Perimeter Calculator 🔺\n",
            "What is the length of side 1 aka (a)?3\n",
            "What is the length of side 2 aka (b)?4\n",
            "What is the length of side 3 aka (c)?5\n",
            "The perimeter of the triangle is 12 units\n"
          ]
        }
      ]
    },
    {
      "cell_type": "markdown",
      "source": [
        "##06_square_number"
      ],
      "metadata": {
        "id": "BtJUeWl6Lm1C"
      }
    },
    {
      "cell_type": "code",
      "source": [
        "def main():\n",
        "  print(\"Square Number Calculator🧮\")\n",
        "  num = int(input(\"Enter a number to see its Square\"))\n",
        "  square = num * num\n",
        "  print(f\"The {num} squared is {square}\")\n",
        "if __name__ == \"__main__\":\n",
        "  main()"
      ],
      "metadata": {
        "colab": {
          "base_uri": "https://localhost:8080/"
        },
        "id": "Y31z_v0oLwLf",
        "outputId": "fc4af277-070a-4a53-e668-643db9b69305"
      },
      "execution_count": null,
      "outputs": [
        {
          "output_type": "stream",
          "name": "stdout",
          "text": [
            "Square Number Calculator🧮\n",
            "Enter a number to see its Square4\n",
            "The 4 squared is 16\n"
          ]
        }
      ]
    },
    {
      "cell_type": "markdown",
      "source": [
        "#01_expressions"
      ],
      "metadata": {
        "id": "Dmsw5NDIMzOT"
      }
    },
    {
      "cell_type": "markdown",
      "source": [
        "##01_dicesimulator\n",
        "\n"
      ],
      "metadata": {
        "id": "gqLYaRfONM5O"
      }
    },
    {
      "cell_type": "code",
      "source": [
        "import random\n",
        "\n",
        "print(\"Dice Simulator🎲\")\n",
        "\n",
        "# Global\n",
        "side = 6\n",
        "def dice_roll():\n",
        "  die_1 = random.randint(1, side)\n",
        "  die_2 = random.randint(1, side)\n",
        "  total = die_1 + die_2\n",
        "  print(f\"Total: {total}\")\n",
        "\n",
        "def main():\n",
        "  die_1 = 10\n",
        "  print(f\"Die 1 before: {die_1}\")\n",
        "  dice_roll()\n",
        "  dice_roll()\n",
        "  dice_roll()\n",
        "  print(f\"Die 1 after: {die_1}\")\n",
        "\n",
        "\n",
        "if __name__ == \"__main__\":\n",
        "  main()\n",
        "\n",
        "\n"
      ],
      "metadata": {
        "id": "_T_7J-1QOTgQ"
      },
      "execution_count": null,
      "outputs": []
    },
    {
      "cell_type": "markdown",
      "source": [
        "\n",
        " Conclution :\n",
        "  In this program, we demonstrate the concept of variable scope by using\n",
        "  the same variable name (die_1) in two different functions\n",
        ": main() and dice_roll().\n",
        "    1)In main(), die_1 is assigned the value 10.\n",
        "    2)In dice_roll(), die_1 is redefined locally and takes a random\n",
        "     value between 1 and 6.\n",
        "    \"here we see that they dont mixup with each other bcoz each function has its\n",
        "     own local scope.\"\n"
      ],
      "metadata": {
        "id": "3E3XqlzTXyP6"
      }
    },
    {
      "cell_type": "markdown",
      "source": [
        "##02_e=mc2"
      ],
      "metadata": {
        "id": "kSnCLw7wYCRf"
      }
    },
    {
      "cell_type": "code",
      "source": [
        "def main():\n",
        "  print(\"Energy Calculator ⚡\")\n",
        "  C = 299792458 ## speed of light\n",
        "  mass_in_Kg = float(input(\"Enter kilos of mass: \"))\n",
        "  Energy_in_Joules = mass_in_Kg * C**2\n",
        "  print(\"E = mc^2\")\n",
        "  print(f\"Mass in Kg: {mass_in_Kg}\")\n",
        "  print(f\"Energy in Joules: {Energy_in_Joules}\")\n",
        "\n",
        "if __name__ == \"__main__\":\n",
        "  main()"
      ],
      "metadata": {
        "colab": {
          "base_uri": "https://localhost:8080/"
        },
        "id": "ekFBpJx4YRWa",
        "outputId": "0a6327f4-512f-4ea4-8e94-d34b2c615983"
      },
      "execution_count": null,
      "outputs": [
        {
          "output_type": "stream",
          "name": "stdout",
          "text": [
            "Energy Calculator ⚡\n",
            "Enter kilos of mass: 100\n",
            "E = mc^2\n",
            "Mass in Kg: 100.0\n",
            "Energy in Joules: 8.987551787368176e+18\n"
          ]
        }
      ]
    },
    {
      "cell_type": "markdown",
      "source": [
        "##03_feet_to_inches"
      ],
      "metadata": {
        "id": "A-M0IFKgbFzi"
      }
    },
    {
      "cell_type": "code",
      "source": [
        "def main():\n",
        "  print(\"Feet to Inches Convertor📏\")\n",
        "  user_input_feet = float(input(\"Enter length in feet\"))\n",
        "  inches = user_input_feet * 12\n",
        "  print(f\"{user_input_feet} feet = {inches} inches\")\n",
        "\n",
        "if __name__ == \"__main__\":\n",
        "  main()\n"
      ],
      "metadata": {
        "colab": {
          "base_uri": "https://localhost:8080/"
        },
        "id": "XUG1aKQ6bjbs",
        "outputId": "ab28ef96-c1a1-48f3-9164-606f219a6b5b"
      },
      "execution_count": null,
      "outputs": [
        {
          "output_type": "stream",
          "name": "stdout",
          "text": [
            "Feet to Inches Convertor📏\n",
            "Enter length in feet1\n",
            "1.0 feet = 12.0 inches\n"
          ]
        }
      ]
    },
    {
      "cell_type": "markdown",
      "source": [
        "##04_pythagorean_theorem\n",
        "\n"
      ],
      "metadata": {
        "id": "zYCZSerqfMnC"
      }
    },
    {
      "cell_type": "code",
      "source": [
        "import math\n",
        "def main():\n",
        "  print(\"Pythagorean Theorem 🔺\")\n",
        "  side_ab = float(input(\"Enter the length of side AC aka (Base): \"))\n",
        "  side_ac = float(input(\"Enter the length of side AC aka (Perpendicular): \"))\n",
        "  side_bc = math.sqrt(side_ab**2 + side_ac**2)\n",
        "  print(f\"The length of side BC aka (Hypotenuse) is {side_bc}\")\n",
        "if __name__ == \"__main__\":\n",
        "  main()"
      ],
      "metadata": {
        "colab": {
          "base_uri": "https://localhost:8080/"
        },
        "id": "OBI5mKhsfUwD",
        "outputId": "e0dea05a-d9f0-4fb5-84af-aeb5c597093e"
      },
      "execution_count": null,
      "outputs": [
        {
          "output_type": "stream",
          "name": "stdout",
          "text": [
            "Pythagorean Theorem 🔺\n",
            "Enter the length of side ac aka (Base): 3\n",
            "Enter the length of side bc aka (Perpendicular): 4\n",
            "The length of side BC aka (Hypotenuse) is 5.0\n"
          ]
        }
      ]
    },
    {
      "cell_type": "markdown",
      "source": [
        "##05_remainder_division"
      ],
      "metadata": {
        "id": "EzbsycgpgVJf"
      }
    },
    {
      "cell_type": "code",
      "source": [
        "def main():\n",
        "  print(\"This code Help u to find the Remainder from devision\")\n",
        "  First_number = int(input(\"Enter the first number\"))\n",
        "  Second_number = int(input(\"Enter the second number\"))\n",
        "  if Second_number == 0:\n",
        "    print(\"Error: Division by zero is not allowed.\")\n",
        "  Remainder = First_number % Second_number\n",
        "  print(f\"The remainder of {First_number} divided by {Second_number} is {Remainder}\")\n",
        "\n",
        "if __name__ == \"__main__\":\n",
        "  main()"
      ],
      "metadata": {
        "colab": {
          "base_uri": "https://localhost:8080/"
        },
        "id": "rVfrFzoLgcKv",
        "outputId": "886730d0-6502-4e69-9515-34da70e500ed"
      },
      "execution_count": null,
      "outputs": [
        {
          "output_type": "stream",
          "name": "stdout",
          "text": [
            "This code Help u to find the Remainder from devision\n",
            "Enter the first number12\n",
            "Enter the second number2\n",
            "The remainder of 12 divided by 2 is 0\n"
          ]
        }
      ]
    },
    {
      "cell_type": "markdown",
      "source": [
        "##06_rolldice"
      ],
      "metadata": {
        "id": "Fb_eJKgehIdW"
      }
    },
    {
      "cell_type": "code",
      "source": [
        "def main():\n",
        "  SIDES =6\n",
        "  die_1 = random.randint(1, SIDES)\n",
        "  die_2 = random.randint(1, SIDES)\n",
        "  print(f\"Die 1: {die_1}\")\n",
        "  print(f\"Die 2: {die_2}\")\n",
        "  total = die_1 + die_2\n",
        "  print(f\"Total of Two dies: {total}\")\n",
        "\n",
        "if __name__ == \"__main__\":\n",
        "  main()\n"
      ],
      "metadata": {
        "colab": {
          "base_uri": "https://localhost:8080/"
        },
        "id": "JpScgca4hcy4",
        "outputId": "6a3636e0-a23b-4e37-bb06-f7814edf110e"
      },
      "execution_count": null,
      "outputs": [
        {
          "output_type": "stream",
          "name": "stdout",
          "text": [
            "Die 1: 4\n",
            "Die 2: 1\n",
            "Total of Two dies: 5\n"
          ]
        }
      ]
    },
    {
      "cell_type": "markdown",
      "source": [
        "##06_seconds_in_year"
      ],
      "metadata": {
        "id": "hxx-nvqkh2yd"
      }
    },
    {
      "cell_type": "code",
      "source": [
        "DAYS_PER_YEAR: int = 365\n",
        "HOURS_PER_DAY: int = 24\n",
        "MIN_PER_HOUR: int = 60\n",
        "SEC_PER_MIN: int = 60\n",
        "\n",
        "def main():\n",
        "  print(\"Ques:How many seconds are in a year?\")\n",
        "  print(\"Ans:There are\", DAYS_PER_YEAR * HOURS_PER_DAY * MIN_PER_HOUR * SEC_PER_MIN, \"seconds in a year.\")\n",
        "\n",
        "if __name__ == \"__main__\":\n",
        "  main()\n"
      ],
      "metadata": {
        "colab": {
          "base_uri": "https://localhost:8080/"
        },
        "id": "rgWLAnWViBEk",
        "outputId": "812fcd7e-aa50-449d-d4e6-d91794dc19fb"
      },
      "execution_count": null,
      "outputs": [
        {
          "output_type": "stream",
          "name": "stdout",
          "text": [
            "Ques:How many seconds are in a year?\n",
            "Ans:There are 31536000 seconds in a year.\n"
          ]
        }
      ]
    },
    {
      "cell_type": "markdown",
      "source": [
        "##07_tiny_mad_lib\n",
        "\n"
      ],
      "metadata": {
        "id": "WLkQ4TKBuEEc"
      }
    },
    {
      "cell_type": "code",
      "source": [
        "Sentence = \"Panaversity is fun. I learned to program and used Python to make my\"\n",
        "def main():\n",
        "  adjective = input(\"Enter an adjective: \")\n",
        "  noun = input(\"Enter a noun: \")\n",
        "  verb = input(\"Enter a verb: \")\n",
        "  print(f\"{Sentence}  {adjective} {noun} {verb}\")\n",
        "if __name__ == \"__main__\":\n",
        "  main()"
      ],
      "metadata": {
        "colab": {
          "base_uri": "https://localhost:8080/"
        },
        "id": "x36LdyxQuO0n",
        "outputId": "432c0047-a7ba-425b-ee9c-20535d5a62b2"
      },
      "execution_count": 3,
      "outputs": [
        {
          "output_type": "stream",
          "name": "stdout",
          "text": [
            "Enter an adjective: challenging\n",
            "Enter a noun: application\n",
            "Enter a verb: coded\n",
            "Panaversity is fun. I learned to program and used Python to make my  challenging application  coded\n"
          ]
        }
      ]
    },
    {
      "cell_type": "markdown",
      "source": [
        "#02_lists\n"
      ],
      "metadata": {
        "id": "M1lkBHncvmWJ"
      }
    },
    {
      "cell_type": "markdown",
      "source": [
        "##01_add_many_number"
      ],
      "metadata": {
        "id": "7_hxXelRvuX4"
      }
    },
    {
      "cell_type": "code",
      "source": [
        "def main():\n",
        "  Sum_of_list = sum([1,2,3])\n",
        "  print(Sum_of_list)\n",
        "if __name__ == \"__main__\":\n",
        "  main()"
      ],
      "metadata": {
        "colab": {
          "base_uri": "https://localhost:8080/"
        },
        "id": "ln4MOIkzv31L",
        "outputId": "fa37d309-9282-45f8-e708-992ecddacb1c"
      },
      "execution_count": 4,
      "outputs": [
        {
          "output_type": "stream",
          "name": "stdout",
          "text": [
            "6\n"
          ]
        }
      ]
    },
    {
      "cell_type": "markdown",
      "source": [
        "##02_double_list\n"
      ],
      "metadata": {
        "id": "jhShGzdbyLj7"
      }
    },
    {
      "cell_type": "code",
      "source": [
        "def list_double(lst):\n",
        "  # return [num * 2 for num in lst] list comprhension\n",
        "  for num in range(len(lst)):\n",
        "    # print(lst) ## 3 time [1, 2, 3] bcoz its run it three type acc to length\n",
        "    # print(lst[num]) ## loop throw each of element and print it one by one\n",
        "    lst[num] *= 2\n",
        "  return lst\n",
        "\n",
        "def main():\n",
        " Sum_of_list =list_double([1,2,3])\n",
        " print(Sum_of_list)\n",
        "main()"
      ],
      "metadata": {
        "colab": {
          "base_uri": "https://localhost:8080/"
        },
        "id": "AWdrSGF_yY6H",
        "outputId": "16d85443-b653-4865-de38-5aa867fdb6cc"
      },
      "execution_count": 13,
      "outputs": [
        {
          "output_type": "stream",
          "name": "stdout",
          "text": [
            "[2, 4, 6]\n"
          ]
        }
      ]
    },
    {
      "cell_type": "markdown",
      "source": [
        "##03_erase_canvas"
      ],
      "metadata": {
        "id": "z44FBe6o0Mi0"
      }
    },
    {
      "cell_type": "code",
      "source": [
        "!pip install graphics.py"
      ],
      "metadata": {
        "id": "ZkpUaw0u0vwp"
      },
      "execution_count": null,
      "outputs": []
    },
    {
      "cell_type": "code",
      "source": [
        "from graphics import Canvas\n",
        "import time\n",
        "\n",
        "CANVAS_WIDTH : int = 400\n",
        "CANVAS_HEIGHT : int = 400\n",
        "\n",
        "CELL_SIZE : int = 40\n",
        "ERASER_SIZE : int = 20\n",
        "\n",
        "def erase_objects(canvas, eraser):\n",
        "    \"\"\"Erase objects in contact with the eraser\"\"\"\n",
        "    # Get mouse info to help us know which cells to delete\n",
        "    mouse_x = canvas.get_mouse_x()\n",
        "    mouse_y = canvas.get_mouse_y()\n",
        "\n",
        "    # Calculate where our eraser is\n",
        "    left_x = mouse_x\n",
        "    top_y = mouse_y\n",
        "    right_x = left_x + ERASER_SIZE\n",
        "    bottom_y = top_y + ERASER_SIZE\n",
        "\n",
        "    # Find things that overlap with our eraser\n",
        "    overlapping_objects = canvas.find_overlapping(left_x, top_y, right_x, bottom_y)\n",
        "\n",
        "    # For everything that overlaps with our eraser (that isn't our eraser), change\n",
        "    # its color to white\n",
        "    for overlapping_object in overlapping_objects:\n",
        "        if overlapping_object != eraser:\n",
        "            canvas.set_color(overlapping_object, 'white')\n",
        "\n",
        "# There is no need to edit code beyond this point\n",
        "\n",
        "def main():\n",
        "    canvas = Canvas(CANVAS_WIDTH, CANVAS_HEIGHT)\n",
        "\n",
        "    num_rows = CANVAS_HEIGHT // CELL_SIZE  # Figure out how many rows of cells we need\n",
        "    num_cols = CANVAS_WIDTH // CELL_SIZE   # Figure out how many columns of cells we need\n",
        "\n",
        "    # Make a grid of squares based on the number of rows and columns.\n",
        "    # The rows and columns along with our cell size help determine where\n",
        "    # each individual cell belongs in our grid!\n",
        "    for row in range(num_rows):\n",
        "        for col in range(num_cols):\n",
        "            left_x = col * CELL_SIZE\n",
        "            top_y = row * CELL_SIZE\n",
        "            right_x = left_x + CELL_SIZE   # The right coordinate of the cell is CELL_SIZE pixels away from the left\n",
        "            bottom_y = top_y + CELL_SIZE   # The bottom coordinate of the cell is CELL_SIZE pixels away from the top\n",
        "\n",
        "            # Create a single cell in the grid\n",
        "            cell = canvas.create_rectangle(left_x, top_y, right_x, bottom_y, 'blue')\n",
        "\n",
        "\n",
        "    canvas.wait_for_click()  # Wait for the user to click before creating the eraser\n",
        "\n",
        "    last_click_x, last_click_y = canvas.get_last_click()  # Get the starting location for the eraser\n",
        "\n",
        "    # Create our eraser\n",
        "    eraser = canvas.create_rectangle(\n",
        "        last_click_x,\n",
        "        last_click_y,\n",
        "        last_click_x + ERASER_SIZE,\n",
        "        last_click_y + ERASER_SIZE,\n",
        "        'pink'\n",
        "    )\n",
        "\n",
        "    # Move the eraser, and erase what it's touching\n",
        "    while True:\n",
        "        # Get where our mouse is and move the eraser to there\n",
        "        mouse_x = canvas.get_mouse_x()\n",
        "        mouse_y = canvas.get_mouse_y()\n",
        "        canvas.moveto(eraser, mouse_x, mouse_y)\n",
        "\n",
        "        # Erase anything touching the eraser\n",
        "        erase_objects(canvas, eraser)\n",
        "\n",
        "        time.sleep(0.05)\n",
        "\n",
        "\n",
        "if __name__ == '__main__':\n",
        "    main()\n",
        "# \"i will try this in my vscode \""
      ],
      "metadata": {
        "id": "VVWHNpzN0Yvx"
      },
      "execution_count": null,
      "outputs": []
    },
    {
      "cell_type": "code",
      "source": [
        "import matplotlib.pyplot as plt\n",
        "\n",
        "# nothing just copy from chatgpt to only check and show the output of question\n",
        "\n",
        "# Set canvas size\n",
        "CANVAS_WIDTH = 400\n",
        "CANVAS_HEIGHT = 400\n",
        "CELL_SIZE = 40\n",
        "\n",
        "def draw_grid():\n",
        "    fig, ax = plt.subplots(figsize=(5, 5))  # 5x5 inches (close to 400x400 px)\n",
        "    ax.set_xlim(0, CANVAS_WIDTH) #Sets the X-axis range from 0 to 400.\n",
        "    ax.set_ylim(0, CANVAS_HEIGHT) #Sets the Y-axis range from 0 to 400.\n",
        "\n",
        "    # Draw grid first loop for horizental and second for vertical\n",
        "    for x in range(0, CANVAS_WIDTH, CELL_SIZE):\n",
        "        ax.plot([x, x], [0, CANVAS_HEIGHT], color='blue')\n",
        "    for y in range(0, CANVAS_HEIGHT, CELL_SIZE):\n",
        "        ax.plot([0, CANVAS_WIDTH], [y, y], color='blue')\n",
        "\n",
        "    plt.show()\n",
        "\n",
        "draw_grid()\n",
        "\n"
      ],
      "metadata": {
        "id": "B2J5ARFC3heY"
      },
      "execution_count": null,
      "outputs": []
    },
    {
      "cell_type": "markdown",
      "source": [
        "##04_flowing_with_data_structures"
      ],
      "metadata": {
        "id": "_6cgJxN07yTY"
      }
    },
    {
      "cell_type": "code",
      "source": [
        "\n",
        "def add_three_copies(Lists,data):\n",
        "  # Lists.append(data)\n",
        "  # Lists.append(data)\n",
        "  # Lists.append(data)\n",
        "  for _ in range(3):\n",
        "    Lists.append(data)\n",
        "\n",
        "\n",
        "def main():\n",
        "  my_msg = input(\"Enter a message to copy \")\n",
        "  my_list = []\n",
        "  print(f\"My List Before : {my_list}\")\n",
        "  add_three_copies(my_list,my_msg)\n",
        "  print(f\"My List After : {my_list}\")\n",
        "\n",
        "if __name__ == \"__main__\":\n",
        "  main()\n"
      ],
      "metadata": {
        "colab": {
          "base_uri": "https://localhost:8080/"
        },
        "id": "TYHf86pm9QPo",
        "outputId": "b41a01cc-75cf-4e0d-f2e6-9e3aa77d77fc"
      },
      "execution_count": 54,
      "outputs": [
        {
          "output_type": "stream",
          "name": "stdout",
          "text": [
            "Enter a message to copy hi\n",
            "My List Before : []\n",
            "My List After : ['hi', 'hi', 'hi']\n"
          ]
        }
      ]
    },
    {
      "cell_type": "markdown",
      "source": [
        "R.W 1"
      ],
      "metadata": {
        "id": "nz2EXyQ_Gobo"
      }
    },
    {
      "cell_type": "code",
      "source": [
        "# this code is rough code to demonstrate the imutibility of string and number\n",
        "# if we want to modify the str,int val using function we must have to return it\n",
        "# else it's not modified if we leglect the return mech let see\n",
        "\n",
        "def increment(x:int):\n",
        "    x += 10\n",
        "\n",
        "def decrement(x:int):\n",
        "    x -= 1\n",
        "    return x\n",
        "\n",
        "# without_return = increment(5)\n",
        "# with_return = decrement(5)\n",
        "print(increment(5))\n",
        "print(decrement(5))"
      ],
      "metadata": {
        "id": "42KX1qjtAEDa"
      },
      "execution_count": null,
      "outputs": []
    },
    {
      "cell_type": "markdown",
      "source": [
        "R.w 2"
      ],
      "metadata": {
        "id": "WGS8LLjcGudo"
      }
    },
    {
      "cell_type": "code",
      "source": [
        "# ok we are assigning our str and int in variables so why its mutaible\n",
        "\n",
        "# as int and str are imutable so its not modify\n",
        "\n",
        "x = 10\n",
        "print(id(x))  #10751144\n",
        "\n",
        "x += 5  # Creates a new obj not\n",
        "print(id(x))  #10751304\n",
        "\n",
        "# conclusion:\n",
        "#     In Python, variables store references to objects, not actual values.\n",
        "\n",
        "my_string = \"h\"                              # 9801376 h mem add\n",
        "print(id(my_string) , my_string)\n",
        "my_string = \"he\"                             #138438075285104 he\n",
        "print(id(my_string), my_string)\n",
        "my_string = \"hel\"                            #138436462210608 hel\n",
        "print(id(my_string) , my_string)\n",
        "my_string = \"hell\"                           #138436462206064 hell\n",
        "print(id(my_string), my_string)\n",
        "my_string = \"hello\"                          #138438039057264 hello\n",
        "print(id(my_string), my_string)\n",
        "\n",
        "\n",
        "a = 10\n",
        "print(id(a)) #10751144\n",
        "b = a\n",
        "print(id(b)) #10751144\n",
        "b += 5\n",
        "print(id(b)) #10751304\n",
        "print(a)  # a should still be 10, but if integers were mutable, it would also change!\n",
        "print(id(a)) #10751144\n",
        "\n",
        "# where list,dict are mutible\n",
        "\n",
        "\n",
        "\n"
      ],
      "metadata": {
        "id": "dhejRrrWGwS5"
      },
      "execution_count": null,
      "outputs": []
    },
    {
      "cell_type": "markdown",
      "source": [
        "##05_get_first_element"
      ],
      "metadata": {
        "id": "lZHgqMHuNoiL"
      }
    },
    {
      "cell_type": "code",
      "source": [
        "\n",
        "def get_first_element(lst):\n",
        "    if len(lst) == 0:\n",
        "        print(\"The list is empty.\")\n",
        "    else:\n",
        "        print(f\"The First Element of List is {lst[0]}\")\n",
        "        # print(f\"The whole  List is {lst}\")\n",
        "\n",
        "def main():\n",
        "    my_list = []\n",
        "    while True:\n",
        "        elem: str = input(\"Please enter an element of the list or press enter to stop. \")\n",
        "        if elem == \"\":\n",
        "            break\n",
        "        my_list.append(elem)\n",
        "    get_first_element(my_list)\n",
        "\n",
        "if __name__ == '__main__':\n",
        "    main()\n",
        "\n"
      ],
      "metadata": {
        "id": "u0hfF3E2N9-q"
      },
      "execution_count": null,
      "outputs": []
    },
    {
      "cell_type": "markdown",
      "source": [
        "##06_get_last_element"
      ],
      "metadata": {
        "id": "Q5tKe1k_cGB7"
      }
    },
    {
      "cell_type": "code",
      "source": [
        "def get_last_element(lst):\n",
        "    if len(lst) == 0:\n",
        "        print(\"The list is empty.\")\n",
        "    else:\n",
        "        # print(lst.pop())\n",
        "        print(f\"The First Element of List is {lst[-1]}\")\n",
        "        # print(f\"The whole  List is {lst}\")\n",
        "\n",
        "def main():\n",
        "    my_list = []\n",
        "    while True:\n",
        "        elem: str = input(\"Please enter an element of the list or press enter to stop. \")\n",
        "        if elem == \"\":\n",
        "            break\n",
        "        my_list.append(elem)\n",
        "    get_last_element(my_list)\n",
        "\n",
        "if __name__ == '__main__':\n",
        "    main()"
      ],
      "metadata": {
        "id": "Xuu82EX3cK2k"
      },
      "execution_count": null,
      "outputs": []
    },
    {
      "cell_type": "markdown",
      "source": [
        "##07_get_list\n",
        "\n"
      ],
      "metadata": {
        "id": "_nIkBnu-dX3J"
      }
    },
    {
      "cell_type": "code",
      "source": [
        "def main():\n",
        "  lst = []\n",
        "  ls_elem = input(\"Enter an element of the list or press enter to stop. \")\n",
        "  while ls_elem != \"\":\n",
        "    lst.append(ls_elem)\n",
        "    ls_elem = input(\"Enter an element of the list or press enter to stop. \")\n",
        "  print(lst)\n",
        "\n",
        "if __name__ == \"__main__\":\n",
        "  main()\n",
        "#"
      ],
      "metadata": {
        "colab": {
          "base_uri": "https://localhost:8080/"
        },
        "id": "xHsL56rLdcvL",
        "outputId": "a8cb0b2b-0331-4d48-e5e0-1f959038606c"
      },
      "execution_count": 22,
      "outputs": [
        {
          "output_type": "stream",
          "name": "stdout",
          "text": [
            "Enter an element of the list or press enter to stop. 23\n",
            "Enter an element of the list or press enter to stop. 23\n",
            "Enter an element of the list or press enter to stop. \n",
            "['23', '23']\n"
          ]
        }
      ]
    },
    {
      "cell_type": "markdown",
      "source": [
        "##08_shorten"
      ],
      "metadata": {
        "id": "oEIpxYCpfejQ"
      }
    },
    {
      "cell_type": "code",
      "source": [
        "MAX_LENGTH = 3\n",
        "def shorten(lst):\n",
        "  while len(lst) > MAX_LENGTH:\n",
        "    popped_item =  lst.pop()\n",
        "    print(f\"\\nPopped {popped_item}\")\n",
        "  print(lst)\n",
        "\n",
        "\n",
        "def main():\n",
        "  print(\"Remember after 3th attemp ur elm discarded. \")\n",
        "  li = []\n",
        "  while True:\n",
        "    user_input: str = input(\"Please enter an element of the list or press enter to stop .\")\n",
        "    if user_input == \"\":\n",
        "      break\n",
        "    li.append(user_input)\n",
        "  shorten(li)\n",
        "\n",
        "\n",
        "if __name__ == \"__main__\":\n",
        "  main()\n"
      ],
      "metadata": {
        "colab": {
          "base_uri": "https://localhost:8080/"
        },
        "id": "-BIri9P7fi68",
        "outputId": "aa08a60f-ef5e-4654-e254-43c43f3dcfe7"
      },
      "execution_count": 34,
      "outputs": [
        {
          "output_type": "stream",
          "name": "stdout",
          "text": [
            "Remember after 4th attemp ur elm discarded. \n",
            "Please enter an element of the list or press enter to stop .1\n",
            "Please enter an element of the list or press enter to stop .2\n",
            "Please enter an element of the list or press enter to stop .3\n",
            "Please enter an element of the list or press enter to stop .4\n",
            "Please enter an element of the list or press enter to stop .\n",
            "\n",
            "Popped 4\n",
            "['1', '2', '3']\n"
          ]
        }
      ]
    }
  ]
}