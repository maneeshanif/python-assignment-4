{
  "nbformat": 4,
  "nbformat_minor": 0,
  "metadata": {
    "colab": {
      "provenance": [],
      "toc_visible": true,
      "authorship_tag": "ABX9TyOb/ScnQ/sX2ADNqi/nU9ud",
      "include_colab_link": true
    },
    "kernelspec": {
      "name": "python3",
      "display_name": "Python 3"
    },
    "language_info": {
      "name": "python"
    }
  },
  "cells": [
    {
      "cell_type": "markdown",
      "metadata": {
        "id": "view-in-github",
        "colab_type": "text"
      },
      "source": [
        "<a href=\"https://colab.research.google.com/github/maneeshanif/python-assignment-4/blob/main/Assignment4(part1).ipynb\" target=\"_parent\"><img src=\"https://colab.research.google.com/assets/colab-badge.svg\" alt=\"Open In Colab\"/></a>"
      ]
    },
    {
      "cell_type": "markdown",
      "source": [
        "# 00_intro_python\n",
        "\n"
      ],
      "metadata": {
        "id": "RRKE8v3ShKBD"
      }
    },
    {
      "cell_type": "markdown",
      "source": [
        "## 01_add_two_numbers"
      ],
      "metadata": {
        "id": "mHilhfQPhdWN"
      }
    },
    {
      "cell_type": "code",
      "source": [
        "def main():\n",
        "  print(\"Simple Calculator for those who have issues with addition🤔\")\n",
        "  num1: int = input(\"Enter First Number\")\n",
        "  num2: int = input(\"Enter Second Number\")\n",
        "  result:int = int(num1) + int(num2)\n",
        "  print(f\"The sum of {num1} and {num2} is {result}🤯\")\n",
        "\n",
        "if __name__ == \"__main__\":\n",
        "  main()"
      ],
      "metadata": {
        "id": "pHV2joghhgOe"
      },
      "execution_count": null,
      "outputs": []
    },
    {
      "cell_type": "markdown",
      "source": [
        "## 02_agreement_bot"
      ],
      "metadata": {
        "id": "BfBd5q3SiPuR"
      }
    },
    {
      "cell_type": "code",
      "source": [
        "def main():\n",
        "  print(\"This program can easily guess ur favorite Animal😎\")\n",
        "  fvt_animal:str = input(\"What's your favorite animal?\")\n",
        "  print(f\"My favorite animal is also {fvt_animal}!\")\n",
        "\n",
        "if __name__ == \"__main__\":\n",
        "  main()"
      ],
      "metadata": {
        "id": "QyFwQfbvigye"
      },
      "execution_count": null,
      "outputs": []
    },
    {
      "cell_type": "markdown",
      "source": [
        "## 03_fahrenheit_to_celsius\n",
        "\n"
      ],
      "metadata": {
        "id": "r0xtvYpAweBc"
      }
    },
    {
      "cell_type": "code",
      "source": [
        "def main():\n",
        "  print(\"Fahrenheit to Celsius Convertor 🕯️\")\n",
        "  fahrenheit:int = input(\"Enter temperature in Fahrenheit\")\n",
        "  celsius = (int(fahrenheit) - 32) * 5/9\n",
        "  print(f\"Temperature: {fahrenheit} F = {celsius} C\")\n",
        "\n",
        "if __name__ == \"__main__\":\n",
        "  main()\n"
      ],
      "metadata": {
        "id": "T5AvraGjwi_t",
        "colab": {
          "base_uri": "https://localhost:8080/"
        },
        "outputId": "94c77653-ed47-46ef-c4ab-3e2f9f6fefcf"
      },
      "execution_count": null,
      "outputs": [
        {
          "output_type": "stream",
          "name": "stdout",
          "text": [
            "Fahrenheit to Celsius Convertor 🕯️\n",
            "Enter temperature in Fahrenheit76\n",
            "Temperature: 76 F = 24.444444444444443 C\n"
          ]
        }
      ]
    },
    {
      "cell_type": "markdown",
      "source": [],
      "metadata": {
        "id": "bvFMG_BtD4JP"
      }
    },
    {
      "cell_type": "markdown",
      "source": [
        "##04_how_old_are_they"
      ],
      "metadata": {
        "id": "EGIhh85UIazG"
      }
    },
    {
      "cell_type": "code",
      "source": [
        "def main():\n",
        "  print(\"how old are they 🧓🏻\")\n",
        "  Anton = 21\n",
        "  Beth = Anton + 6\n",
        "  Chen = Beth + 20\n",
        "  Drew = Chen + Anton\n",
        "  Ethan = Chen\n",
        "  print(f\"Anton is {Anton} years old\")\n",
        "  print(f\"Beth is {Beth} years old\")\n",
        "  print(f\"Chen is {Chen} years old\")\n",
        "  print(f\"Drew is {Drew} years old\")\n",
        "  print(f\"Ethan is {Ethan} years old\")\n",
        "\n",
        "if __name__ == \"__main__\":\n",
        "  main()\n"
      ],
      "metadata": {
        "colab": {
          "base_uri": "https://localhost:8080/"
        },
        "id": "8dLb-LzZIjVQ",
        "outputId": "c84c3cc6-402b-417c-d927-319a5298c1b2"
      },
      "execution_count": null,
      "outputs": [
        {
          "output_type": "stream",
          "name": "stdout",
          "text": [
            "how old are they 🧓🏻\n",
            "Anton is 21 years old\n",
            "Beth is 27 years old\n",
            "Chen is 47 years old\n",
            "Drew is 68 years old\n",
            "Ethan is 47 years old\n"
          ]
        }
      ]
    },
    {
      "cell_type": "markdown",
      "source": [
        "##05_triangle_perimeter\n"
      ],
      "metadata": {
        "id": "XxB12JPVKIu4"
      }
    },
    {
      "cell_type": "code",
      "source": [
        "def main():\n",
        "  print(\"Triangle Perimeter Calculator 🔺\")\n",
        "  side_a = int(input(\"What is the length of side 1 aka (a)?\"))\n",
        "  side_b = int(input(\"What is the length of side 2 aka (b)?\"))\n",
        "  side_c = int(input(\"What is the length of side 3 aka (c)?\"))\n",
        "  perimeter:int = side_a + side_b + side_c\n",
        "  print(f\"The perimeter of the triangle is {perimeter} units\")\n",
        "if __name__ == \"__main__\":\n",
        "  main()"
      ],
      "metadata": {
        "colab": {
          "base_uri": "https://localhost:8080/"
        },
        "id": "4MAFedG7KSf5",
        "outputId": "adcd0051-4f1b-44c9-b99e-a61e70a4a844"
      },
      "execution_count": null,
      "outputs": [
        {
          "output_type": "stream",
          "name": "stdout",
          "text": [
            "Triangle Perimeter Calculator 🔺\n",
            "What is the length of side 1 aka (a)?3\n",
            "What is the length of side 2 aka (b)?4\n",
            "What is the length of side 3 aka (c)?5\n",
            "The perimeter of the triangle is 12 units\n"
          ]
        }
      ]
    },
    {
      "cell_type": "markdown",
      "source": [
        "##06_square_number"
      ],
      "metadata": {
        "id": "BtJUeWl6Lm1C"
      }
    },
    {
      "cell_type": "code",
      "source": [
        "def main():\n",
        "  print(\"Square Number Calculator🧮\")\n",
        "  num = int(input(\"Enter a number to see its Square\"))\n",
        "  square = num * num\n",
        "  print(f\"The {num} squared is {square}\")\n",
        "if __name__ == \"__main__\":\n",
        "  main()"
      ],
      "metadata": {
        "colab": {
          "base_uri": "https://localhost:8080/"
        },
        "id": "Y31z_v0oLwLf",
        "outputId": "fc4af277-070a-4a53-e668-643db9b69305"
      },
      "execution_count": null,
      "outputs": [
        {
          "output_type": "stream",
          "name": "stdout",
          "text": [
            "Square Number Calculator🧮\n",
            "Enter a number to see its Square4\n",
            "The 4 squared is 16\n"
          ]
        }
      ]
    },
    {
      "cell_type": "markdown",
      "source": [
        "#01_expressions"
      ],
      "metadata": {
        "id": "Dmsw5NDIMzOT"
      }
    },
    {
      "cell_type": "markdown",
      "source": [
        "##01_dicesimulator\n",
        "\n"
      ],
      "metadata": {
        "id": "gqLYaRfONM5O"
      }
    },
    {
      "cell_type": "code",
      "source": [
        "import random\n",
        "\n",
        "print(\"Dice Simulator🎲\")\n",
        "\n",
        "# Global\n",
        "side = 6\n",
        "def dice_roll():\n",
        "  die_1 = random.randint(1, side)\n",
        "  die_2 = random.randint(1, side)\n",
        "  total = die_1 + die_2\n",
        "  print(f\"Total: {total}\")\n",
        "\n",
        "def main():\n",
        "  die_1 = 10\n",
        "  print(f\"Die 1 before: {die_1}\")\n",
        "  dice_roll()\n",
        "  dice_roll()\n",
        "  dice_roll()\n",
        "  print(f\"Die 1 after: {die_1}\")\n",
        "\n",
        "\n",
        "if __name__ == \"__main__\":\n",
        "  main()\n",
        "\n",
        "\n"
      ],
      "metadata": {
        "id": "_T_7J-1QOTgQ"
      },
      "execution_count": null,
      "outputs": []
    },
    {
      "cell_type": "markdown",
      "source": [
        "\n",
        " Conclution :\n",
        "  In this program, we demonstrate the concept of variable scope by using\n",
        "  the same variable name (die_1) in two different functions\n",
        ": main() and dice_roll().\n",
        "    1)In main(), die_1 is assigned the value 10.\n",
        "    2)In dice_roll(), die_1 is redefined locally and takes a random\n",
        "     value between 1 and 6.\n",
        "    \"here we see that they dont mixup with each other bcoz each function has its\n",
        "     own local scope.\"\n"
      ],
      "metadata": {
        "id": "3E3XqlzTXyP6"
      }
    },
    {
      "cell_type": "markdown",
      "source": [
        "##02_e=mc2"
      ],
      "metadata": {
        "id": "kSnCLw7wYCRf"
      }
    },
    {
      "cell_type": "code",
      "source": [
        "def main():\n",
        "  print(\"Energy Calculator ⚡\")\n",
        "  C = 299792458 ## speed of light\n",
        "  mass_in_Kg = float(input(\"Enter kilos of mass: \"))\n",
        "  Energy_in_Joules = mass_in_Kg * C**2\n",
        "  print(\"E = mc^2\")\n",
        "  print(f\"Mass in Kg: {mass_in_Kg}\")\n",
        "  print(f\"Energy in Joules: {Energy_in_Joules}\")\n",
        "\n",
        "if __name__ == \"__main__\":\n",
        "  main()"
      ],
      "metadata": {
        "colab": {
          "base_uri": "https://localhost:8080/"
        },
        "id": "ekFBpJx4YRWa",
        "outputId": "0a6327f4-512f-4ea4-8e94-d34b2c615983"
      },
      "execution_count": null,
      "outputs": [
        {
          "output_type": "stream",
          "name": "stdout",
          "text": [
            "Energy Calculator ⚡\n",
            "Enter kilos of mass: 100\n",
            "E = mc^2\n",
            "Mass in Kg: 100.0\n",
            "Energy in Joules: 8.987551787368176e+18\n"
          ]
        }
      ]
    },
    {
      "cell_type": "markdown",
      "source": [
        "##03_feet_to_inches"
      ],
      "metadata": {
        "id": "A-M0IFKgbFzi"
      }
    },
    {
      "cell_type": "code",
      "source": [
        "def main():\n",
        "  print(\"Feet to Inches Convertor📏\")\n",
        "  user_input_feet = float(input(\"Enter length in feet\"))\n",
        "  inches = user_input_feet * 12\n",
        "  print(f\"{user_input_feet} feet = {inches} inches\")\n",
        "\n",
        "if __name__ == \"__main__\":\n",
        "  main()\n"
      ],
      "metadata": {
        "colab": {
          "base_uri": "https://localhost:8080/"
        },
        "id": "XUG1aKQ6bjbs",
        "outputId": "ab28ef96-c1a1-48f3-9164-606f219a6b5b"
      },
      "execution_count": null,
      "outputs": [
        {
          "output_type": "stream",
          "name": "stdout",
          "text": [
            "Feet to Inches Convertor📏\n",
            "Enter length in feet1\n",
            "1.0 feet = 12.0 inches\n"
          ]
        }
      ]
    },
    {
      "cell_type": "markdown",
      "source": [
        "##04_pythagorean_theorem\n",
        "\n"
      ],
      "metadata": {
        "id": "zYCZSerqfMnC"
      }
    },
    {
      "cell_type": "code",
      "source": [
        "import math\n",
        "def main():\n",
        "  print(\"Pythagorean Theorem 🔺\")\n",
        "  side_ab = float(input(\"Enter the length of side AC aka (Base): \"))\n",
        "  side_ac = float(input(\"Enter the length of side AC aka (Perpendicular): \"))\n",
        "  side_bc = math.sqrt(side_ab**2 + side_ac**2)\n",
        "  print(f\"The length of side BC aka (Hypotenuse) is {side_bc}\")\n",
        "if __name__ == \"__main__\":\n",
        "  main()"
      ],
      "metadata": {
        "colab": {
          "base_uri": "https://localhost:8080/"
        },
        "id": "OBI5mKhsfUwD",
        "outputId": "e0dea05a-d9f0-4fb5-84af-aeb5c597093e"
      },
      "execution_count": null,
      "outputs": [
        {
          "output_type": "stream",
          "name": "stdout",
          "text": [
            "Pythagorean Theorem 🔺\n",
            "Enter the length of side ac aka (Base): 3\n",
            "Enter the length of side bc aka (Perpendicular): 4\n",
            "The length of side BC aka (Hypotenuse) is 5.0\n"
          ]
        }
      ]
    },
    {
      "cell_type": "markdown",
      "source": [
        "##05_remainder_division"
      ],
      "metadata": {
        "id": "EzbsycgpgVJf"
      }
    },
    {
      "cell_type": "code",
      "source": [
        "def main():\n",
        "  print(\"This code Help u to find the Remainder from devision\")\n",
        "  First_number = int(input(\"Enter the first number\"))\n",
        "  Second_number = int(input(\"Enter the second number\"))\n",
        "  if Second_number == 0:\n",
        "    print(\"Error: Division by zero is not allowed.\")\n",
        "  Remainder = First_number % Second_number\n",
        "  print(f\"The remainder of {First_number} divided by {Second_number} is {Remainder}\")\n",
        "\n",
        "if __name__ == \"__main__\":\n",
        "  main()"
      ],
      "metadata": {
        "colab": {
          "base_uri": "https://localhost:8080/"
        },
        "id": "rVfrFzoLgcKv",
        "outputId": "886730d0-6502-4e69-9515-34da70e500ed"
      },
      "execution_count": null,
      "outputs": [
        {
          "output_type": "stream",
          "name": "stdout",
          "text": [
            "This code Help u to find the Remainder from devision\n",
            "Enter the first number12\n",
            "Enter the second number2\n",
            "The remainder of 12 divided by 2 is 0\n"
          ]
        }
      ]
    },
    {
      "cell_type": "markdown",
      "source": [
        "##06_rolldice"
      ],
      "metadata": {
        "id": "Fb_eJKgehIdW"
      }
    },
    {
      "cell_type": "code",
      "source": [
        "def main():\n",
        "  SIDES =6\n",
        "  die_1 = random.randint(1, SIDES)\n",
        "  die_2 = random.randint(1, SIDES)\n",
        "  print(f\"Die 1: {die_1}\")\n",
        "  print(f\"Die 2: {die_2}\")\n",
        "  total = die_1 + die_2\n",
        "  print(f\"Total of Two dies: {total}\")\n",
        "\n",
        "if __name__ == \"__main__\":\n",
        "  main()\n"
      ],
      "metadata": {
        "colab": {
          "base_uri": "https://localhost:8080/"
        },
        "id": "JpScgca4hcy4",
        "outputId": "6a3636e0-a23b-4e37-bb06-f7814edf110e"
      },
      "execution_count": null,
      "outputs": [
        {
          "output_type": "stream",
          "name": "stdout",
          "text": [
            "Die 1: 4\n",
            "Die 2: 1\n",
            "Total of Two dies: 5\n"
          ]
        }
      ]
    },
    {
      "cell_type": "markdown",
      "source": [
        "##06_seconds_in_year"
      ],
      "metadata": {
        "id": "hxx-nvqkh2yd"
      }
    },
    {
      "cell_type": "code",
      "source": [
        "DAYS_PER_YEAR: int = 365\n",
        "HOURS_PER_DAY: int = 24\n",
        "MIN_PER_HOUR: int = 60\n",
        "SEC_PER_MIN: int = 60\n",
        "\n",
        "def main():\n",
        "  print(\"Ques:How many seconds are in a year?\")\n",
        "  print(\"Ans:There are\", DAYS_PER_YEAR * HOURS_PER_DAY * MIN_PER_HOUR * SEC_PER_MIN, \"seconds in a year.\")\n",
        "\n",
        "if __name__ == \"__main__\":\n",
        "  main()\n"
      ],
      "metadata": {
        "colab": {
          "base_uri": "https://localhost:8080/"
        },
        "id": "rgWLAnWViBEk",
        "outputId": "812fcd7e-aa50-449d-d4e6-d91794dc19fb"
      },
      "execution_count": null,
      "outputs": [
        {
          "output_type": "stream",
          "name": "stdout",
          "text": [
            "Ques:How many seconds are in a year?\n",
            "Ans:There are 31536000 seconds in a year.\n"
          ]
        }
      ]
    }
  ]
}