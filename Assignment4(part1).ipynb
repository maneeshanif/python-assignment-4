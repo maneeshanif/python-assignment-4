{
  "nbformat": 4,
  "nbformat_minor": 0,
  "metadata": {
    "colab": {
      "provenance": [],
      "toc_visible": true,
      "gpuType": "T4",
      "authorship_tag": "ABX9TyO48fElktMG+URnOmCD69R9",
      "include_colab_link": true
    },
    "kernelspec": {
      "name": "python3",
      "display_name": "Python 3"
    },
    "language_info": {
      "name": "python"
    },
    "accelerator": "GPU"
  },
  "cells": [
    {
      "cell_type": "markdown",
      "metadata": {
        "id": "view-in-github",
        "colab_type": "text"
      },
      "source": [
        "<a href=\"https://colab.research.google.com/github/maneeshanif/python-assignment-4/blob/main/Assignment4(part1).ipynb\" target=\"_parent\"><img src=\"https://colab.research.google.com/assets/colab-badge.svg\" alt=\"Open In Colab\"/></a>"
      ]
    },
    {
      "cell_type": "markdown",
      "source": [
        "# 00_intro_python\n",
        "\n"
      ],
      "metadata": {
        "id": "RRKE8v3ShKBD"
      }
    },
    {
      "cell_type": "markdown",
      "source": [
        "## 01_add_two_numbers"
      ],
      "metadata": {
        "id": "mHilhfQPhdWN"
      }
    },
    {
      "cell_type": "code",
      "source": [
        "def main():\n",
        "  print(\"Simple Calculator for those who have issues with addition🤔\")\n",
        "  num1: int = input(\"Enter First Number\")\n",
        "  num2: int = input(\"Enter Second Number\")\n",
        "  result:int = int(num1) + int(num2)\n",
        "  print(f\"The sum of {num1} and {num2} is {result}🤯\")\n",
        "\n",
        "if __name__ == \"__main__\":\n",
        "  main()"
      ],
      "metadata": {
        "id": "pHV2joghhgOe"
      },
      "execution_count": null,
      "outputs": []
    },
    {
      "cell_type": "markdown",
      "source": [
        "## 02_agreement_bot"
      ],
      "metadata": {
        "id": "BfBd5q3SiPuR"
      }
    },
    {
      "cell_type": "code",
      "source": [
        "def main():\n",
        "  print(\"This program can easily guess ur favorite Animal😎\")\n",
        "  fvt_animal:str = input(\"What's your favorite animal?\")\n",
        "  print(f\"My favorite animal is also {fvt_animal}!\")\n",
        "\n",
        "if __name__ == \"__main__\":\n",
        "  main()"
      ],
      "metadata": {
        "id": "QyFwQfbvigye"
      },
      "execution_count": null,
      "outputs": []
    },
    {
      "cell_type": "markdown",
      "source": [
        "## 03_fahrenheit_to_celsius\n",
        "\n"
      ],
      "metadata": {
        "id": "r0xtvYpAweBc"
      }
    },
    {
      "cell_type": "code",
      "source": [
        "def main():\n",
        "  print(\"Fahrenheit to Celsius Convertor 🕯️\")\n",
        "  fahrenheit:int = input(\"Enter temperature in Fahrenheit\")\n",
        "  celsius = (int(fahrenheit) - 32) * 5/9\n",
        "  print(f\"Temperature: {fahrenheit} F = {celsius} C\")\n",
        "\n",
        "if __name__ == \"__main__\":\n",
        "  main()\n"
      ],
      "metadata": {
        "id": "T5AvraGjwi_t",
        "colab": {
          "base_uri": "https://localhost:8080/"
        },
        "outputId": "94c77653-ed47-46ef-c4ab-3e2f9f6fefcf"
      },
      "execution_count": null,
      "outputs": [
        {
          "output_type": "stream",
          "name": "stdout",
          "text": [
            "Fahrenheit to Celsius Convertor 🕯️\n",
            "Enter temperature in Fahrenheit76\n",
            "Temperature: 76 F = 24.444444444444443 C\n"
          ]
        }
      ]
    },
    {
      "cell_type": "markdown",
      "source": [],
      "metadata": {
        "id": "bvFMG_BtD4JP"
      }
    },
    {
      "cell_type": "markdown",
      "source": [
        "##04_how_old_are_they"
      ],
      "metadata": {
        "id": "EGIhh85UIazG"
      }
    },
    {
      "cell_type": "code",
      "source": [
        "def main():\n",
        "  print(\"how old are they 🧓🏻\")\n",
        "  Anton = 21\n",
        "  Beth = Anton + 6\n",
        "  Chen = Beth + 20\n",
        "  Drew = Chen + Anton\n",
        "  Ethan = Chen\n",
        "  print(f\"Anton is {Anton} years old\")\n",
        "  print(f\"Beth is {Beth} years old\")\n",
        "  print(f\"Chen is {Chen} years old\")\n",
        "  print(f\"Drew is {Drew} years old\")\n",
        "  print(f\"Ethan is {Ethan} years old\")\n",
        "\n",
        "if __name__ == \"__main__\":\n",
        "  main()\n"
      ],
      "metadata": {
        "colab": {
          "base_uri": "https://localhost:8080/"
        },
        "id": "8dLb-LzZIjVQ",
        "outputId": "c84c3cc6-402b-417c-d927-319a5298c1b2"
      },
      "execution_count": null,
      "outputs": [
        {
          "output_type": "stream",
          "name": "stdout",
          "text": [
            "how old are they 🧓🏻\n",
            "Anton is 21 years old\n",
            "Beth is 27 years old\n",
            "Chen is 47 years old\n",
            "Drew is 68 years old\n",
            "Ethan is 47 years old\n"
          ]
        }
      ]
    },
    {
      "cell_type": "markdown",
      "source": [
        "##05_triangle_perimeter\n"
      ],
      "metadata": {
        "id": "XxB12JPVKIu4"
      }
    },
    {
      "cell_type": "code",
      "source": [
        "def main():\n",
        "  print(\"Triangle Perimeter Calculator 🔺\")\n",
        "  side_a = int(input(\"What is the length of side 1 aka (a)?\"))\n",
        "  side_b = int(input(\"What is the length of side 2 aka (b)?\"))\n",
        "  side_c = int(input(\"What is the length of side 3 aka (c)?\"))\n",
        "  perimeter:int = side_a + side_b + side_c\n",
        "  print(f\"The perimeter of the triangle is {perimeter} units\")\n",
        "if __name__ == \"__main__\":\n",
        "  main()"
      ],
      "metadata": {
        "colab": {
          "base_uri": "https://localhost:8080/"
        },
        "id": "4MAFedG7KSf5",
        "outputId": "adcd0051-4f1b-44c9-b99e-a61e70a4a844"
      },
      "execution_count": null,
      "outputs": [
        {
          "output_type": "stream",
          "name": "stdout",
          "text": [
            "Triangle Perimeter Calculator 🔺\n",
            "What is the length of side 1 aka (a)?3\n",
            "What is the length of side 2 aka (b)?4\n",
            "What is the length of side 3 aka (c)?5\n",
            "The perimeter of the triangle is 12 units\n"
          ]
        }
      ]
    },
    {
      "cell_type": "markdown",
      "source": [
        "##06_square_number"
      ],
      "metadata": {
        "id": "BtJUeWl6Lm1C"
      }
    },
    {
      "cell_type": "code",
      "source": [
        "def main():\n",
        "  print(\"Square Number Calculator🧮\")\n",
        "  num = int(input(\"Enter a number to see its Square\"))\n",
        "  square = num * num\n",
        "  print(f\"The {num} squared is {square}\")\n",
        "if __name__ == \"__main__\":\n",
        "  main()"
      ],
      "metadata": {
        "colab": {
          "base_uri": "https://localhost:8080/"
        },
        "id": "Y31z_v0oLwLf",
        "outputId": "fc4af277-070a-4a53-e668-643db9b69305"
      },
      "execution_count": null,
      "outputs": [
        {
          "output_type": "stream",
          "name": "stdout",
          "text": [
            "Square Number Calculator🧮\n",
            "Enter a number to see its Square4\n",
            "The 4 squared is 16\n"
          ]
        }
      ]
    },
    {
      "cell_type": "markdown",
      "source": [
        "#01_expressions"
      ],
      "metadata": {
        "id": "Dmsw5NDIMzOT"
      }
    },
    {
      "cell_type": "markdown",
      "source": [
        "##01_dicesimulator\n",
        "\n"
      ],
      "metadata": {
        "id": "gqLYaRfONM5O"
      }
    },
    {
      "cell_type": "code",
      "source": [
        "import random\n",
        "\n",
        "print(\"Dice Simulator🎲\")\n",
        "\n",
        "# Global\n",
        "side = 6\n",
        "def dice_roll():\n",
        "  die_1 = random.randint(1, side)\n",
        "  die_2 = random.randint(1, side)\n",
        "  total = die_1 + die_2\n",
        "  print(f\"Total: {total}\")\n",
        "\n",
        "def main():\n",
        "  die_1 = 10\n",
        "  print(f\"Die 1 before: {die_1}\")\n",
        "  dice_roll()\n",
        "  dice_roll()\n",
        "  dice_roll()\n",
        "  print(f\"Die 1 after: {die_1}\")\n",
        "\n",
        "\n",
        "if __name__ == \"__main__\":\n",
        "  main()\n",
        "\n",
        "\n"
      ],
      "metadata": {
        "id": "_T_7J-1QOTgQ"
      },
      "execution_count": null,
      "outputs": []
    },
    {
      "cell_type": "markdown",
      "source": [
        "\n",
        " Conclution :\n",
        "  In this program, we demonstrate the concept of variable scope by using\n",
        "  the same variable name (die_1) in two different functions\n",
        ": main() and dice_roll().\n",
        "    1)In main(), die_1 is assigned the value 10.\n",
        "    2)In dice_roll(), die_1 is redefined locally and takes a random\n",
        "     value between 1 and 6.\n",
        "    \"here we see that they dont mixup with each other bcoz each function has its\n",
        "     own local scope.\"\n"
      ],
      "metadata": {
        "id": "3E3XqlzTXyP6"
      }
    },
    {
      "cell_type": "markdown",
      "source": [
        "##02_e=mc2"
      ],
      "metadata": {
        "id": "kSnCLw7wYCRf"
      }
    },
    {
      "cell_type": "code",
      "source": [
        "def main():\n",
        "  print(\"Energy Calculator ⚡\")\n",
        "  C = 299792458 ## speed of light\n",
        "  mass_in_Kg = float(input(\"Enter kilos of mass: \"))\n",
        "  Energy_in_Joules = mass_in_Kg * C**2\n",
        "  print(\"E = mc^2\")\n",
        "  print(f\"Mass in Kg: {mass_in_Kg}\")\n",
        "  print(f\"Energy in Joules: {Energy_in_Joules}\")\n",
        "\n",
        "if __name__ == \"__main__\":\n",
        "  main()"
      ],
      "metadata": {
        "colab": {
          "base_uri": "https://localhost:8080/"
        },
        "id": "ekFBpJx4YRWa",
        "outputId": "0a6327f4-512f-4ea4-8e94-d34b2c615983"
      },
      "execution_count": null,
      "outputs": [
        {
          "output_type": "stream",
          "name": "stdout",
          "text": [
            "Energy Calculator ⚡\n",
            "Enter kilos of mass: 100\n",
            "E = mc^2\n",
            "Mass in Kg: 100.0\n",
            "Energy in Joules: 8.987551787368176e+18\n"
          ]
        }
      ]
    },
    {
      "cell_type": "markdown",
      "source": [
        "##03_feet_to_inches"
      ],
      "metadata": {
        "id": "A-M0IFKgbFzi"
      }
    },
    {
      "cell_type": "code",
      "source": [
        "def main():\n",
        "  print(\"Feet to Inches Convertor📏\")\n",
        "  user_input_feet = float(input(\"Enter length in feet\"))\n",
        "  inches = user_input_feet * 12\n",
        "  print(f\"{user_input_feet} feet = {inches} inches\")\n",
        "\n",
        "if __name__ == \"__main__\":\n",
        "  main()\n"
      ],
      "metadata": {
        "colab": {
          "base_uri": "https://localhost:8080/"
        },
        "id": "XUG1aKQ6bjbs",
        "outputId": "ab28ef96-c1a1-48f3-9164-606f219a6b5b"
      },
      "execution_count": null,
      "outputs": [
        {
          "output_type": "stream",
          "name": "stdout",
          "text": [
            "Feet to Inches Convertor📏\n",
            "Enter length in feet1\n",
            "1.0 feet = 12.0 inches\n"
          ]
        }
      ]
    },
    {
      "cell_type": "markdown",
      "source": [
        "##04_pythagorean_theorem\n",
        "\n"
      ],
      "metadata": {
        "id": "zYCZSerqfMnC"
      }
    },
    {
      "cell_type": "code",
      "source": [
        "import math\n",
        "def main():\n",
        "  print(\"Pythagorean Theorem 🔺\")\n",
        "  side_ab = float(input(\"Enter the length of side AC aka (Base): \"))\n",
        "  side_ac = float(input(\"Enter the length of side AC aka (Perpendicular): \"))\n",
        "  side_bc = math.sqrt(side_ab**2 + side_ac**2)\n",
        "  print(f\"The length of side BC aka (Hypotenuse) is {side_bc}\")\n",
        "if __name__ == \"__main__\":\n",
        "  main()"
      ],
      "metadata": {
        "colab": {
          "base_uri": "https://localhost:8080/"
        },
        "id": "OBI5mKhsfUwD",
        "outputId": "e0dea05a-d9f0-4fb5-84af-aeb5c597093e"
      },
      "execution_count": null,
      "outputs": [
        {
          "output_type": "stream",
          "name": "stdout",
          "text": [
            "Pythagorean Theorem 🔺\n",
            "Enter the length of side ac aka (Base): 3\n",
            "Enter the length of side bc aka (Perpendicular): 4\n",
            "The length of side BC aka (Hypotenuse) is 5.0\n"
          ]
        }
      ]
    },
    {
      "cell_type": "markdown",
      "source": [
        "##05_remainder_division"
      ],
      "metadata": {
        "id": "EzbsycgpgVJf"
      }
    },
    {
      "cell_type": "code",
      "source": [
        "def main():\n",
        "  print(\"This code Help u to find the Remainder from devision\")\n",
        "  First_number = int(input(\"Enter the first number\"))\n",
        "  Second_number = int(input(\"Enter the second number\"))\n",
        "  if Second_number == 0:\n",
        "    print(\"Error: Division by zero is not allowed.\")\n",
        "  Remainder = First_number % Second_number\n",
        "  print(f\"The remainder of {First_number} divided by {Second_number} is {Remainder}\")\n",
        "\n",
        "if __name__ == \"__main__\":\n",
        "  main()"
      ],
      "metadata": {
        "colab": {
          "base_uri": "https://localhost:8080/"
        },
        "id": "rVfrFzoLgcKv",
        "outputId": "886730d0-6502-4e69-9515-34da70e500ed"
      },
      "execution_count": null,
      "outputs": [
        {
          "output_type": "stream",
          "name": "stdout",
          "text": [
            "This code Help u to find the Remainder from devision\n",
            "Enter the first number12\n",
            "Enter the second number2\n",
            "The remainder of 12 divided by 2 is 0\n"
          ]
        }
      ]
    },
    {
      "cell_type": "markdown",
      "source": [
        "##06_rolldice"
      ],
      "metadata": {
        "id": "Fb_eJKgehIdW"
      }
    },
    {
      "cell_type": "code",
      "source": [
        "def main():\n",
        "  SIDES =6\n",
        "  die_1 = random.randint(1, SIDES)\n",
        "  die_2 = random.randint(1, SIDES)\n",
        "  print(f\"Die 1: {die_1}\")\n",
        "  print(f\"Die 2: {die_2}\")\n",
        "  total = die_1 + die_2\n",
        "  print(f\"Total of Two dies: {total}\")\n",
        "\n",
        "if __name__ == \"__main__\":\n",
        "  main()\n"
      ],
      "metadata": {
        "colab": {
          "base_uri": "https://localhost:8080/"
        },
        "id": "JpScgca4hcy4",
        "outputId": "6a3636e0-a23b-4e37-bb06-f7814edf110e"
      },
      "execution_count": null,
      "outputs": [
        {
          "output_type": "stream",
          "name": "stdout",
          "text": [
            "Die 1: 4\n",
            "Die 2: 1\n",
            "Total of Two dies: 5\n"
          ]
        }
      ]
    },
    {
      "cell_type": "markdown",
      "source": [
        "##06_seconds_in_year"
      ],
      "metadata": {
        "id": "hxx-nvqkh2yd"
      }
    },
    {
      "cell_type": "code",
      "source": [
        "DAYS_PER_YEAR: int = 365\n",
        "HOURS_PER_DAY: int = 24\n",
        "MIN_PER_HOUR: int = 60\n",
        "SEC_PER_MIN: int = 60\n",
        "\n",
        "def main():\n",
        "  print(\"Ques:How many seconds are in a year?\")\n",
        "  print(\"Ans:There are\", DAYS_PER_YEAR * HOURS_PER_DAY * MIN_PER_HOUR * SEC_PER_MIN, \"seconds in a year.\")\n",
        "\n",
        "if __name__ == \"__main__\":\n",
        "  main()\n"
      ],
      "metadata": {
        "colab": {
          "base_uri": "https://localhost:8080/"
        },
        "id": "rgWLAnWViBEk",
        "outputId": "812fcd7e-aa50-449d-d4e6-d91794dc19fb"
      },
      "execution_count": null,
      "outputs": [
        {
          "output_type": "stream",
          "name": "stdout",
          "text": [
            "Ques:How many seconds are in a year?\n",
            "Ans:There are 31536000 seconds in a year.\n"
          ]
        }
      ]
    },
    {
      "cell_type": "markdown",
      "source": [
        "##07_tiny_mad_lib\n",
        "\n"
      ],
      "metadata": {
        "id": "WLkQ4TKBuEEc"
      }
    },
    {
      "cell_type": "code",
      "source": [
        "Sentence = \"Panaversity is fun. I learned to program and used Python to make my\"\n",
        "def main():\n",
        "  adjective = input(\"Enter an adjective: \")\n",
        "  noun = input(\"Enter a noun: \")\n",
        "  verb = input(\"Enter a verb: \")\n",
        "  print(f\"{Sentence}  {adjective} {noun} {verb}\")\n",
        "if __name__ == \"__main__\":\n",
        "  main()"
      ],
      "metadata": {
        "colab": {
          "base_uri": "https://localhost:8080/"
        },
        "id": "x36LdyxQuO0n",
        "outputId": "432c0047-a7ba-425b-ee9c-20535d5a62b2"
      },
      "execution_count": null,
      "outputs": [
        {
          "output_type": "stream",
          "name": "stdout",
          "text": [
            "Enter an adjective: challenging\n",
            "Enter a noun: application\n",
            "Enter a verb: coded\n",
            "Panaversity is fun. I learned to program and used Python to make my  challenging application  coded\n"
          ]
        }
      ]
    },
    {
      "cell_type": "markdown",
      "source": [
        "#02_lists\n"
      ],
      "metadata": {
        "id": "M1lkBHncvmWJ"
      }
    },
    {
      "cell_type": "markdown",
      "source": [
        "##01_add_many_number"
      ],
      "metadata": {
        "id": "7_hxXelRvuX4"
      }
    },
    {
      "cell_type": "code",
      "source": [
        "def main():\n",
        "  Sum_of_list = sum([1,2,3])\n",
        "  print(Sum_of_list)\n",
        "if __name__ == \"__main__\":\n",
        "  main()"
      ],
      "metadata": {
        "colab": {
          "base_uri": "https://localhost:8080/"
        },
        "id": "ln4MOIkzv31L",
        "outputId": "fa37d309-9282-45f8-e708-992ecddacb1c"
      },
      "execution_count": null,
      "outputs": [
        {
          "output_type": "stream",
          "name": "stdout",
          "text": [
            "6\n"
          ]
        }
      ]
    },
    {
      "cell_type": "markdown",
      "source": [
        "##02_double_list\n"
      ],
      "metadata": {
        "id": "jhShGzdbyLj7"
      }
    },
    {
      "cell_type": "code",
      "source": [
        "def list_double(lst):\n",
        "  # return [num * 2 for num in lst] list comprhension\n",
        "  for num in range(len(lst)):\n",
        "    # print(lst) ## 3 time [1, 2, 3] bcoz its run it three type acc to length\n",
        "    # print(lst[num]) ## loop throw each of element and print it one by one\n",
        "    lst[num] *= 2\n",
        "  return lst\n",
        "\n",
        "def main():\n",
        " Sum_of_list =list_double([1,2,3])\n",
        " print(Sum_of_list)\n",
        "main()"
      ],
      "metadata": {
        "colab": {
          "base_uri": "https://localhost:8080/"
        },
        "id": "AWdrSGF_yY6H",
        "outputId": "16d85443-b653-4865-de38-5aa867fdb6cc"
      },
      "execution_count": null,
      "outputs": [
        {
          "output_type": "stream",
          "name": "stdout",
          "text": [
            "[2, 4, 6]\n"
          ]
        }
      ]
    },
    {
      "cell_type": "markdown",
      "source": [
        "##03_erase_canvas"
      ],
      "metadata": {
        "id": "z44FBe6o0Mi0"
      }
    },
    {
      "cell_type": "code",
      "source": [
        "!pip install graphics.py"
      ],
      "metadata": {
        "id": "ZkpUaw0u0vwp"
      },
      "execution_count": null,
      "outputs": []
    },
    {
      "cell_type": "code",
      "source": [
        "from graphics import Canvas\n",
        "import time\n",
        "\n",
        "CANVAS_WIDTH : int = 400\n",
        "CANVAS_HEIGHT : int = 400\n",
        "\n",
        "CELL_SIZE : int = 40\n",
        "ERASER_SIZE : int = 20\n",
        "\n",
        "def erase_objects(canvas, eraser):\n",
        "    \"\"\"Erase objects in contact with the eraser\"\"\"\n",
        "    # Get mouse info to help us know which cells to delete\n",
        "    mouse_x = canvas.get_mouse_x()\n",
        "    mouse_y = canvas.get_mouse_y()\n",
        "\n",
        "    # Calculate where our eraser is\n",
        "    left_x = mouse_x\n",
        "    top_y = mouse_y\n",
        "    right_x = left_x + ERASER_SIZE\n",
        "    bottom_y = top_y + ERASER_SIZE\n",
        "\n",
        "    # Find things that overlap with our eraser\n",
        "    overlapping_objects = canvas.find_overlapping(left_x, top_y, right_x, bottom_y)\n",
        "\n",
        "    # For everything that overlaps with our eraser (that isn't our eraser), change\n",
        "    # its color to white\n",
        "    for overlapping_object in overlapping_objects:\n",
        "        if overlapping_object != eraser:\n",
        "            canvas.set_color(overlapping_object, 'white')\n",
        "\n",
        "# There is no need to edit code beyond this point\n",
        "\n",
        "def main():\n",
        "    canvas = Canvas(CANVAS_WIDTH, CANVAS_HEIGHT)\n",
        "\n",
        "    num_rows = CANVAS_HEIGHT // CELL_SIZE  # Figure out how many rows of cells we need\n",
        "    num_cols = CANVAS_WIDTH // CELL_SIZE   # Figure out how many columns of cells we need\n",
        "\n",
        "    # Make a grid of squares based on the number of rows and columns.\n",
        "    # The rows and columns along with our cell size help determine where\n",
        "    # each individual cell belongs in our grid!\n",
        "    for row in range(num_rows):\n",
        "        for col in range(num_cols):\n",
        "            left_x = col * CELL_SIZE\n",
        "            top_y = row * CELL_SIZE\n",
        "            right_x = left_x + CELL_SIZE   # The right coordinate of the cell is CELL_SIZE pixels away from the left\n",
        "            bottom_y = top_y + CELL_SIZE   # The bottom coordinate of the cell is CELL_SIZE pixels away from the top\n",
        "\n",
        "            # Create a single cell in the grid\n",
        "            cell = canvas.create_rectangle(left_x, top_y, right_x, bottom_y, 'blue')\n",
        "\n",
        "\n",
        "    canvas.wait_for_click()  # Wait for the user to click before creating the eraser\n",
        "\n",
        "    last_click_x, last_click_y = canvas.get_last_click()  # Get the starting location for the eraser\n",
        "\n",
        "    # Create our eraser\n",
        "    eraser = canvas.create_rectangle(\n",
        "        last_click_x,\n",
        "        last_click_y,\n",
        "        last_click_x + ERASER_SIZE,\n",
        "        last_click_y + ERASER_SIZE,\n",
        "        'pink'\n",
        "    )\n",
        "\n",
        "    # Move the eraser, and erase what it's touching\n",
        "    while True:\n",
        "        # Get where our mouse is and move the eraser to there\n",
        "        mouse_x = canvas.get_mouse_x()\n",
        "        mouse_y = canvas.get_mouse_y()\n",
        "        canvas.moveto(eraser, mouse_x, mouse_y)\n",
        "\n",
        "        # Erase anything touching the eraser\n",
        "        erase_objects(canvas, eraser)\n",
        "\n",
        "        time.sleep(0.05)\n",
        "\n",
        "\n",
        "if __name__ == '__main__':\n",
        "    main()\n",
        "# \"i will try this in my vscode \""
      ],
      "metadata": {
        "id": "VVWHNpzN0Yvx"
      },
      "execution_count": null,
      "outputs": []
    },
    {
      "cell_type": "code",
      "source": [
        "import matplotlib.pyplot as plt\n",
        "\n",
        "# nothing just copy from chatgpt to only check and show the output of question\n",
        "\n",
        "# Set canvas size\n",
        "CANVAS_WIDTH = 400\n",
        "CANVAS_HEIGHT = 400\n",
        "CELL_SIZE = 40\n",
        "\n",
        "def draw_grid():\n",
        "    fig, ax = plt.subplots(figsize=(5, 5))  # 5x5 inches (close to 400x400 px)\n",
        "    ax.set_xlim(0, CANVAS_WIDTH) #Sets the X-axis range from 0 to 400.\n",
        "    ax.set_ylim(0, CANVAS_HEIGHT) #Sets the Y-axis range from 0 to 400.\n",
        "\n",
        "    # Draw grid first loop for horizental and second for vertical\n",
        "    for x in range(0, CANVAS_WIDTH, CELL_SIZE):\n",
        "        ax.plot([x, x], [0, CANVAS_HEIGHT], color='blue')\n",
        "    for y in range(0, CANVAS_HEIGHT, CELL_SIZE):\n",
        "        ax.plot([0, CANVAS_WIDTH], [y, y], color='blue')\n",
        "\n",
        "    plt.show()\n",
        "\n",
        "draw_grid()\n",
        "\n"
      ],
      "metadata": {
        "id": "B2J5ARFC3heY"
      },
      "execution_count": null,
      "outputs": []
    },
    {
      "cell_type": "markdown",
      "source": [
        "##04_flowing_with_data_structures"
      ],
      "metadata": {
        "id": "_6cgJxN07yTY"
      }
    },
    {
      "cell_type": "code",
      "source": [
        "\n",
        "def add_three_copies(Lists,data):\n",
        "  # Lists.append(data)\n",
        "  # Lists.append(data)\n",
        "  # Lists.append(data)\n",
        "  for _ in range(3):\n",
        "    Lists.append(data)\n",
        "\n",
        "\n",
        "def main():\n",
        "  my_msg = input(\"Enter a message to copy \")\n",
        "  my_list = []\n",
        "  print(f\"My List Before : {my_list}\")\n",
        "  add_three_copies(my_list,my_msg)\n",
        "  print(f\"My List After : {my_list}\")\n",
        "\n",
        "if __name__ == \"__main__\":\n",
        "  main()\n"
      ],
      "metadata": {
        "colab": {
          "base_uri": "https://localhost:8080/"
        },
        "id": "TYHf86pm9QPo",
        "outputId": "b41a01cc-75cf-4e0d-f2e6-9e3aa77d77fc"
      },
      "execution_count": null,
      "outputs": [
        {
          "output_type": "stream",
          "name": "stdout",
          "text": [
            "Enter a message to copy hi\n",
            "My List Before : []\n",
            "My List After : ['hi', 'hi', 'hi']\n"
          ]
        }
      ]
    },
    {
      "cell_type": "markdown",
      "source": [
        "R.W 1"
      ],
      "metadata": {
        "id": "nz2EXyQ_Gobo"
      }
    },
    {
      "cell_type": "code",
      "source": [
        "# this code is rough code to demonstrate the imutibility of string and number\n",
        "# if we want to modify the str,int val using function we must have to return it\n",
        "# else it's not modified if we leglect the return mech let see\n",
        "\n",
        "def increment(x:int):\n",
        "    x += 10\n",
        "\n",
        "def decrement(x:int):\n",
        "    x -= 1\n",
        "    return x\n",
        "\n",
        "# without_return = increment(5)\n",
        "# with_return = decrement(5)\n",
        "print(increment(5))\n",
        "print(decrement(5))"
      ],
      "metadata": {
        "id": "42KX1qjtAEDa"
      },
      "execution_count": null,
      "outputs": []
    },
    {
      "cell_type": "markdown",
      "source": [
        "R.w 2"
      ],
      "metadata": {
        "id": "WGS8LLjcGudo"
      }
    },
    {
      "cell_type": "code",
      "source": [
        "# ok we are assigning our str and int in variables so why its mutaible\n",
        "\n",
        "# as int and str are imutable so its not modify\n",
        "\n",
        "x = 10\n",
        "print(id(x))  #10751144\n",
        "\n",
        "x += 5  # Creates a new obj not\n",
        "print(id(x))  #10751304\n",
        "\n",
        "# conclusion:\n",
        "#     In Python, variables store references to objects, not actual values.\n",
        "\n",
        "my_string = \"h\"                              # 9801376 h mem add\n",
        "print(id(my_string) , my_string)\n",
        "my_string = \"he\"                             #138438075285104 he\n",
        "print(id(my_string), my_string)\n",
        "my_string = \"hel\"                            #138436462210608 hel\n",
        "print(id(my_string) , my_string)\n",
        "my_string = \"hell\"                           #138436462206064 hell\n",
        "print(id(my_string), my_string)\n",
        "my_string = \"hello\"                          #138438039057264 hello\n",
        "print(id(my_string), my_string)\n",
        "\n",
        "\n",
        "a = 10\n",
        "print(id(a)) #10751144\n",
        "b = a\n",
        "print(id(b)) #10751144\n",
        "b += 5\n",
        "print(id(b)) #10751304\n",
        "print(a)  # a should still be 10, but if integers were mutable, it would also change!\n",
        "print(id(a)) #10751144\n",
        "\n",
        "# where list,dict are mutible\n",
        "\n",
        "\n",
        "\n"
      ],
      "metadata": {
        "id": "dhejRrrWGwS5"
      },
      "execution_count": null,
      "outputs": []
    },
    {
      "cell_type": "markdown",
      "source": [
        "##05_get_first_element"
      ],
      "metadata": {
        "id": "lZHgqMHuNoiL"
      }
    },
    {
      "cell_type": "code",
      "source": [
        "\n",
        "def get_first_element(lst):\n",
        "    if len(lst) == 0:\n",
        "        print(\"The list is empty.\")\n",
        "    else:\n",
        "        print(f\"The First Element of List is {lst[0]}\")\n",
        "        # print(f\"The whole  List is {lst}\")\n",
        "\n",
        "def main():\n",
        "    my_list = []\n",
        "    while True:\n",
        "        elem: str = input(\"Please enter an element of the list or press enter to stop. \")\n",
        "        if elem == \"\":\n",
        "            break\n",
        "        my_list.append(elem)\n",
        "    get_first_element(my_list)\n",
        "\n",
        "if __name__ == '__main__':\n",
        "    main()\n",
        "\n"
      ],
      "metadata": {
        "id": "u0hfF3E2N9-q"
      },
      "execution_count": null,
      "outputs": []
    },
    {
      "cell_type": "markdown",
      "source": [
        "##06_get_last_element"
      ],
      "metadata": {
        "id": "Q5tKe1k_cGB7"
      }
    },
    {
      "cell_type": "code",
      "source": [
        "def get_last_element(lst):\n",
        "    if len(lst) == 0:\n",
        "        print(\"The list is empty.\")\n",
        "    else:\n",
        "        # print(lst.pop())\n",
        "        print(f\"The First Element of List is {lst[-1]}\")\n",
        "        # print(f\"The whole  List is {lst}\")\n",
        "\n",
        "def main():\n",
        "    my_list = []\n",
        "    while True:\n",
        "        elem: str = input(\"Please enter an element of the list or press enter to stop. \")\n",
        "        if elem == \"\":\n",
        "            break\n",
        "        my_list.append(elem)\n",
        "    get_last_element(my_list)\n",
        "\n",
        "if __name__ == '__main__':\n",
        "    main()"
      ],
      "metadata": {
        "id": "Xuu82EX3cK2k"
      },
      "execution_count": null,
      "outputs": []
    },
    {
      "cell_type": "markdown",
      "source": [
        "##07_get_list\n",
        "\n"
      ],
      "metadata": {
        "id": "_nIkBnu-dX3J"
      }
    },
    {
      "cell_type": "code",
      "source": [
        "def main():\n",
        "  lst = []\n",
        "  ls_elem = input(\"Enter an element of the list or press enter to stop. \")\n",
        "  while ls_elem != \"\":\n",
        "    lst.append(ls_elem)\n",
        "    ls_elem = input(\"Enter an element of the list or press enter to stop. \")\n",
        "  print(lst)\n",
        "\n",
        "if __name__ == \"__main__\":\n",
        "  main()\n",
        "#"
      ],
      "metadata": {
        "colab": {
          "base_uri": "https://localhost:8080/"
        },
        "id": "xHsL56rLdcvL",
        "outputId": "a8cb0b2b-0331-4d48-e5e0-1f959038606c"
      },
      "execution_count": null,
      "outputs": [
        {
          "output_type": "stream",
          "name": "stdout",
          "text": [
            "Enter an element of the list or press enter to stop. 23\n",
            "Enter an element of the list or press enter to stop. 23\n",
            "Enter an element of the list or press enter to stop. \n",
            "['23', '23']\n"
          ]
        }
      ]
    },
    {
      "cell_type": "markdown",
      "source": [
        "##08_shorten"
      ],
      "metadata": {
        "id": "oEIpxYCpfejQ"
      }
    },
    {
      "cell_type": "code",
      "source": [
        "MAX_LENGTH = 3\n",
        "def shorten(lst):\n",
        "  while len(lst) > MAX_LENGTH:\n",
        "    popped_item =  lst.pop()\n",
        "    print(f\"\\nPopped {popped_item}\")\n",
        "  print(lst)\n",
        "\n",
        "\n",
        "def main():\n",
        "  print(\"Remember after 3th attemp ur elm discarded. \")\n",
        "  li = []\n",
        "  while True:\n",
        "    user_input: str = input(\"Please enter an element of the list or press enter to stop .\")\n",
        "    if user_input == \"\":\n",
        "      break\n",
        "    li.append(user_input)\n",
        "  shorten(li)\n",
        "\n",
        "\n",
        "if __name__ == \"__main__\":\n",
        "  main()\n"
      ],
      "metadata": {
        "colab": {
          "base_uri": "https://localhost:8080/"
        },
        "id": "-BIri9P7fi68",
        "outputId": "aa08a60f-ef5e-4654-e254-43c43f3dcfe7"
      },
      "execution_count": null,
      "outputs": [
        {
          "output_type": "stream",
          "name": "stdout",
          "text": [
            "Remember after 4th attemp ur elm discarded. \n",
            "Please enter an element of the list or press enter to stop .1\n",
            "Please enter an element of the list or press enter to stop .2\n",
            "Please enter an element of the list or press enter to stop .3\n",
            "Please enter an element of the list or press enter to stop .4\n",
            "Please enter an element of the list or press enter to stop .\n",
            "\n",
            "Popped 4\n",
            "['1', '2', '3']\n"
          ]
        }
      ]
    },
    {
      "cell_type": "markdown",
      "source": [
        "#03_if_statements"
      ],
      "metadata": {
        "id": "pv1YcBHTnEIE"
      }
    },
    {
      "cell_type": "markdown",
      "source": [
        "##01_print_events"
      ],
      "metadata": {
        "id": "mSts5R_qnMHi"
      }
    },
    {
      "cell_type": "code",
      "source": [
        "def main():\n",
        "  for i in range(20):\n",
        "    print(i * 2,end=\" \")\n",
        "\n",
        "\n",
        "if __name__ == \"__main__\":\n",
        "  main()\n"
      ],
      "metadata": {
        "colab": {
          "base_uri": "https://localhost:8080/"
        },
        "id": "gtTV6oOPnR5Q",
        "outputId": "8ae4c693-5c62-44cc-e376-5cf8115b5216"
      },
      "execution_count": null,
      "outputs": [
        {
          "output_type": "stream",
          "name": "stdout",
          "text": [
            "0 2 4 6 8 10 12 14 16 18 20 22 24 26 28 30 32 34 36 38 "
          ]
        }
      ]
    },
    {
      "cell_type": "markdown",
      "source": [
        "##02_international_voting_age"
      ],
      "metadata": {
        "id": "W1qFBnwQnkWj"
      }
    },
    {
      "cell_type": "code",
      "source": [
        "\n",
        "PETURKSBOUIPO = 16\n",
        "STANLAU = 25\n",
        "MAYENGUA = 48\n",
        "\n",
        "def main():\n",
        "  age = int(input(\"How old are you? \"))\n",
        "  if age >= PETURKSBOUIPO and age < STANLAU:\n",
        "    print(f\"You can vote in Peturksbouipo where the voting age is {PETURKSBOUIPO} . But not in STANLAU and MAYENGUA.\")\n",
        "  elif age >= STANLAU and age < MAYENGUA:\n",
        "    print(f\"You can vote in Stanlau where the voting age is {STANLAU} and even in  Peturksbouipo too  where the voting age  {PETURKSBOUIPO} . But not in  MAYENGUA.\")\n",
        "  elif age >= MAYENGUA:\n",
        "    print(f\"You can vote in Mayengua where the voting age is {MAYENGUA}.\")\n",
        "  else:\n",
        "    print(f\"You cannot vote .Bcoz u are a todler👶🏻 acc to gov 🩻.\")\n",
        "\n",
        "if __name__ == \"__main__\":\n",
        "  main()\n"
      ],
      "metadata": {
        "colab": {
          "base_uri": "https://localhost:8080/"
        },
        "id": "6rvLFMoVoQ5n",
        "outputId": "6327f91e-d5d3-4935-e913-a8db547c91d9"
      },
      "execution_count": null,
      "outputs": [
        {
          "output_type": "stream",
          "name": "stdout",
          "text": [
            "How old are you? 2\n",
            "You cannot vote .Bcoz u are a todler👶🏻 acc to gov 🩻.\n"
          ]
        }
      ]
    },
    {
      "cell_type": "markdown",
      "source": [
        "##03_leap_year"
      ],
      "metadata": {
        "id": "hKM5b17Yruh9"
      }
    },
    {
      "cell_type": "code",
      "source": [
        "def main():\n",
        "  print(\"Leap Year Checker 🎇\")\n",
        "  year = int(input(\"Enter a year: \"))\n",
        "  if (year % 4 == 0 and year % 100 != 0) or (year % 400 == 0):\n",
        "    print(f\"{year} is a leap year.\")\n",
        "  else:\n",
        "    print(f\"{year} is not a leap year.\")\n",
        "\n",
        "if __name__ == \"__main__\":\n",
        "  main()"
      ],
      "metadata": {
        "colab": {
          "base_uri": "https://localhost:8080/"
        },
        "id": "XCgW0y28r2CI",
        "outputId": "2e9281f2-60c1-427f-efe0-7c166f29f69e"
      },
      "execution_count": null,
      "outputs": [
        {
          "output_type": "stream",
          "name": "stdout",
          "text": [
            "Leap Year Checker 🎇\n",
            "Enter a year: 2024\n",
            "2024 is a leap year.\n"
          ]
        }
      ]
    },
    {
      "cell_type": "markdown",
      "source": [
        "##04_tall_enough_to_ride"
      ],
      "metadata": {
        "id": "x0YaX3NltJ74"
      }
    },
    {
      "cell_type": "code",
      "source": [
        "def main():\n",
        "  min_height = 50\n",
        "  user_height = int(input(\"How tall are u?\"))\n",
        "  if (user_height >= min_height):\n",
        "    print(\"You can ride\")\n",
        "  else:\n",
        "    print(\"You can't ride\")\n",
        "\n",
        "if __name__ == \"__main__\":\n",
        "  main()\n"
      ],
      "metadata": {
        "colab": {
          "base_uri": "https://localhost:8080/"
        },
        "id": "Gu7VF6n-tNQ9",
        "outputId": "04d182be-db88-4365-a7c0-a0c2c7f20d51"
      },
      "execution_count": null,
      "outputs": [
        {
          "output_type": "stream",
          "name": "stdout",
          "text": [
            "How tall are u?23\n",
            "You can't ride\n"
          ]
        }
      ]
    },
    {
      "cell_type": "markdown",
      "source": [
        "##05_random_numbers"
      ],
      "metadata": {
        "id": "qv8pvjOruAK2"
      }
    },
    {
      "cell_type": "code",
      "source": [
        "import random\n",
        "\n",
        "def main():\n",
        "  count = 0\n",
        "  while True:\n",
        "    elem = random.randint(1, 100)\n",
        "    count += 1\n",
        "    if (count > 10):\n",
        "      break\n",
        "    print(elem , end=\" \")\n",
        "\n",
        "\n",
        "\n",
        "if __name__ == \"__main__\":\n",
        "  main()"
      ],
      "metadata": {
        "colab": {
          "base_uri": "https://localhost:8080/"
        },
        "id": "QVX948bDuH3A",
        "outputId": "ad031a5a-ed34-476c-d707-ba5e8d5c255c"
      },
      "execution_count": null,
      "outputs": [
        {
          "output_type": "stream",
          "name": "stdout",
          "text": [
            "68 85 80 72 62 26 85 15 100 45 "
          ]
        }
      ]
    },
    {
      "cell_type": "markdown",
      "source": [
        "#04_dictionaries"
      ],
      "metadata": {
        "id": "YLR8Nf9qRDhA"
      }
    },
    {
      "cell_type": "markdown",
      "source": [
        "##00_count_nums"
      ],
      "metadata": {
        "id": "k-cFrXTiRMez"
      }
    },
    {
      "cell_type": "code",
      "source": [
        "def main():\n",
        "  num_counts = {}\n",
        "  while True:\n",
        "    user_input = input(\"Enter a number: \")\n",
        "    if user_input == \"\":\n",
        "      break\n",
        "    num = int(user_input)\n",
        "    if num in num_counts:\n",
        "      num_counts[num] += 1\n",
        "    else:\n",
        "      num_counts[num] = 1\n",
        "    for num, count in num_counts.items():\n",
        "        print(f\"{num} appears {count} times.\")\n",
        "\n",
        "if __name__ == \"__main__\":\n",
        "  main()\n"
      ],
      "metadata": {
        "id": "1R6LLpsMRSg9"
      },
      "execution_count": null,
      "outputs": []
    },
    {
      "cell_type": "markdown",
      "source": [
        "##01_phonebook"
      ],
      "metadata": {
        "id": "QGqWlC4OSt66"
      }
    },
    {
      "cell_type": "code",
      "source": [
        "def main():\n",
        "    phonebook = {}\n",
        "\n",
        "    while True:\n",
        "        print(\"\\nHere is Your Personal Phonebook 📱\")\n",
        "        print(\"1) Add a new contact\")\n",
        "        print(\"2) Search for a contact\")\n",
        "        print(\"3) View all contacts\")\n",
        "        print(\"4) Quit\")\n",
        "        choice = int(input(\"Enter your choice: \"))\n",
        "        if choice == 1:\n",
        "\n",
        "            name = input(\"Enter the name: \")\n",
        "            phone = input(\"Enter the phone number: \")\n",
        "            phonebook[name] = phone\n",
        "            print(f\"{name} has been added to the phonebook.\")\n",
        "\n",
        "\n",
        "        elif choice == 2:\n",
        "            name = input(\"Enter the name: \")\n",
        "            if name in phonebook:\n",
        "                print(f\"The phone number of {name} is {phonebook[name]}.\")\n",
        "            else:\n",
        "                print(f\"{name} is not in the phonebook.\")\n",
        "\n",
        "        elif choice == 3:\n",
        "            if phonebook:\n",
        "                print(\"Your contacts:\")\n",
        "                for name, phone in phonebook.items():\n",
        "                    print(f\"{name}: {phone}\")\n",
        "            else:\n",
        "                print(\"Your phonebook is empty.\")\n",
        "\n",
        "        elif choice == 4:\n",
        "            print(\"Exiting Phonebook. Goodbye! 👋\")\n",
        "            break\n",
        "\n",
        "        else:\n",
        "            print(\"Invalid choice. Please try again.\")\n",
        "\n",
        "if __name__ == \"__main__\":\n",
        "    main()\n",
        "\n"
      ],
      "metadata": {
        "id": "xc5SDOWcSzFn"
      },
      "execution_count": null,
      "outputs": []
    },
    {
      "cell_type": "markdown",
      "source": [
        "##02_pop_up_shop"
      ],
      "metadata": {
        "id": "gz6Hg_AIe_rZ"
      }
    },
    {
      "cell_type": "code",
      "source": [
        "available_fruits ={\n",
        "    \"mango\":[\"🥭\",300],\n",
        "    \"apple\": [\"🍎\",150],\n",
        "    \"orange\": [\"🍊\",200],\n",
        "    \"banana\": [\"🍌\",100],\n",
        "}\n",
        "\n",
        "def main():\n",
        "  print(\"Here is mini Fruits shopping solution 🛍️\")\n",
        "  total_price = 0\n",
        "  for fruit,price in available_fruits.items():\n",
        "    purchased = int(input(f\"How many {fruit} {price[0]}do you want?\"))\n",
        "    total_price += purchased * price[1]\n",
        "  print(f\"Total price is {total_price}\")\n",
        "\n",
        "if __name__ == \"__main__\":\n",
        "  main()\n"
      ],
      "metadata": {
        "id": "SR91XzncfDbP",
        "colab": {
          "base_uri": "https://localhost:8080/"
        },
        "outputId": "94f4d857-630a-4a75-eff3-428b2ee57931"
      },
      "execution_count": 53,
      "outputs": [
        {
          "output_type": "stream",
          "name": "stdout",
          "text": [
            "Here is mini Fruits shopping solution 🛍️\n",
            "How many mango 🥭do you want?5\n",
            "How many apple 🍎do you want?3\n",
            "How many orange 🍊do you want?6\n",
            "How many banana 🍌do you want?7\n",
            "Total price is 3850\n"
          ]
        }
      ]
    },
    {
      "cell_type": "markdown",
      "source": [
        "##03_powerful_passwords"
      ],
      "metadata": {
        "id": "9kBmchWu0Lt4"
      }
    },
    {
      "cell_type": "code",
      "source": [
        "from hashlib import sha256\n",
        "\n",
        "def login(email, password, user_data):\n",
        "    print(\"Logging in...\")\n",
        "    if email not in user_data:\n",
        "        print(\"Email not found!\")\n",
        "    if user_data[email] == convert_to_hash(password):\n",
        "        print(\"Login Successful ✅\")\n",
        "    else:\n",
        "        print(\"Login Failed ❌ \")\n",
        "\n",
        "def convert_to_hash(password):\n",
        "    return sha256(password.encode()).hexdigest()\n",
        "\n",
        "def main():\n",
        "    user_data = {\n",
        "        \"anees@dev.com\": \"5df0ad7fb199040d71e980a55170ea4f4e4d13aa77f3c8c7de2e597ff917828c\", #pass is : mainnhibatungah\n",
        "        \"champak@chacha.com\": \"2cf24dba5fb0a30e26e83b2ac5b9e29e1b161e5c1fa7425e73043362938b9824\", #pass is : hello\n",
        "        \"hacker@gmail.com\": \"a1a3b09875f9e9acade5623e1cca680009a6c9e0452489931cfa5b0041f4d290\" #pass is : hii\n",
        "    }\n",
        "\n",
        "    email = input(\"Enter your email: \")\n",
        "    password = input(\"Enter a password: \")\n",
        "    # print(user_data[email])\n",
        "\n",
        "    login(email, password, user_data)\n",
        "\n",
        "if __name__ == \"__main__\":\n",
        "    main()\n",
        "\n"
      ],
      "metadata": {
        "colab": {
          "base_uri": "https://localhost:8080/"
        },
        "id": "H8Wi1oU70Rfj",
        "outputId": "0ee3099a-83e0-467a-a2f8-e9b7a65a95bc"
      },
      "execution_count": 79,
      "outputs": [
        {
          "output_type": "stream",
          "name": "stdout",
          "text": [
            "Enter your email: anees@dev.com\n",
            "Enter a password: 44\n",
            "5df0ad7fb199040d71e980a55170ea4f4e4d13aa77f3c8c7de2e597ff917828c\n"
          ]
        }
      ]
    },
    {
      "cell_type": "markdown",
      "source": [
        "R.W\n"
      ],
      "metadata": {
        "id": "lIvdmCnG_WJl"
      }
    },
    {
      "cell_type": "code",
      "source": [
        "\n",
        "def main():\n",
        "    user_data = {\n",
        "        \"anees@dev.com\": \"5df0ad7fb199040d71e980a55170ea4f4e4d13aa77f3c8c7de2e597ff917828c\", #pass is : mainnhibatungah\n",
        "        \"champak@chacha.com\": \"2cf24dba5fb0a30e26e83b2ac5b9e29e1b161e5c1fa7425e73043362938b9824\", #pass is : hello\n",
        "        \"hacker@gmail.com\": \"a1a3b09875f9e9acade5623e1cca680009a6c9e0452489931cfa5b0041f4d290\" #pass is : hii\n",
        "    }\n",
        "    email = input(\"Enter your email: \")\n",
        "\n",
        "    print(user_data[email]) ## here key with name email dynamical name\n",
        "    #  conclusion above [email] is a dynamic key nice\n",
        "\n",
        "\n",
        "if __name__ == \"__main__\":\n",
        "    main()\n",
        "\n"
      ],
      "metadata": {
        "colab": {
          "base_uri": "https://localhost:8080/"
        },
        "id": "CvGjEZ4fBFIq",
        "outputId": "f5fdaed8-8e10-4242-fc97-b355124238e1"
      },
      "execution_count": 81,
      "outputs": [
        {
          "output_type": "stream",
          "name": "stdout",
          "text": [
            "Enter your email: anees@dev.com\n",
            "5df0ad7fb199040d71e980a55170ea4f4e4d13aa77f3c8c7de2e597ff917828c\n"
          ]
        }
      ]
    },
    {
      "cell_type": "code",
      "source": [
        "print(convert_to_hash(\"hello\"))\n",
        "print(convert_to_hash(\"hello\"))\n",
        "\n",
        "# this guy generate same hash each time we call ``sha256(password.encode()).hexdigest()``\n",
        "#  in js bcrypt world const isMatch = await bcrypt.compare(password, user.password);\n",
        "# as our sha256 generate same each time so                  11         11   but here in this line == is doing our campare func work  ` if user_data[email] == convert_to_hash(password):`\n",
        "#                                                                                                                                          we are accessing val from obj by giving user input email as dynamic key\n"
      ],
      "metadata": {
        "colab": {
          "base_uri": "https://localhost:8080/"
        },
        "id": "uzTcDRkh_YVV",
        "outputId": "e8385d05-d4c3-4958-8874-a23ef8ee63f5"
      },
      "execution_count": 76,
      "outputs": [
        {
          "output_type": "stream",
          "name": "stdout",
          "text": [
            "2cf24dba5fb0a30e26e83b2ac5b9e29e1b161e5c1fa7425e73043362938b9824\n",
            "2cf24dba5fb0a30e26e83b2ac5b9e29e1b161e5c1fa7425e73043362938b9824\n"
          ]
        }
      ]
    },
    {
      "cell_type": "markdown",
      "source": [
        "#05_loops_control_flow"
      ],
      "metadata": {
        "id": "2QsiTYOkDnMt"
      }
    },
    {
      "cell_type": "markdown",
      "source": [
        "##00_guess_my_number"
      ],
      "metadata": {
        "id": "fKs5LpyxDsxI"
      }
    },
    {
      "cell_type": "code",
      "source": [
        "import random\n",
        "\n",
        "def main():\n",
        "  random_num = random.randint(1, 100)\n",
        "  user_guess = int(input(\"Guess a number between 1 and 100: \"))\n",
        "  while user_guess != random_num:\n",
        "    if user_guess < random_num:\n",
        "      print(\"Too low! Try again.\")\n",
        "    else:\n",
        "      print(\"Too high! Try again.\")\n",
        "    user_guess = int(input(\"Guess again: \"))\n",
        "  print(\"Congratulations! You guessed the number!\")\n",
        "\n",
        "if __name__ == \"__main__\":\n",
        "  main()"
      ],
      "metadata": {
        "colab": {
          "base_uri": "https://localhost:8080/"
        },
        "id": "S-VHugRaDv7_",
        "outputId": "2f21d96c-b60c-4001-ecd8-07b3bf8a49ae"
      },
      "execution_count": 82,
      "outputs": [
        {
          "output_type": "stream",
          "name": "stdout",
          "text": [
            "Guess a number between 1 and 100: 23\n",
            "Too high! Try again.\n",
            "Guess again: 23\n",
            "Too high! Try again.\n",
            "Guess again: 3\n",
            "Too low! Try again.\n",
            "Guess again: 4\n",
            "Too low! Try again.\n",
            "Guess again: 21\n",
            "Too low! Try again.\n",
            "Guess again: 22\n",
            "Congratulations! You guessed the number!\n"
          ]
        }
      ]
    },
    {
      "cell_type": "markdown",
      "source": [
        "##01_fibonacci"
      ],
      "metadata": {
        "id": "yc4gYXmWF-c1"
      }
    },
    {
      "cell_type": "code",
      "source": [
        "\"\"\"\n",
        "a= 0 while b= 1 in init stage so fibconi is a +b mean 0+1 = 1 and it nver ending\n",
        " so the curnt val is plus my next one mean the curnt is 1 + 2 =3\n",
        "\n",
        "\"\"\"\n",
        "\n",
        "def main():\n",
        "    max_limit = 10000\n",
        "    curr_term = 0  # The 0th Fibonacci Number\n",
        "    next_term = 1  # The 1st Fibonacci Number\n",
        "    while curr_term <= max_limit:\n",
        "        print(curr_term , end=\" \")\n",
        "        term_after_next = curr_term + next_term\n",
        "        curr_term = next_term # update a mean 0 t0 1\n",
        "        next_term = term_after_next # here  update b from 1 to 2\n",
        "\n",
        "if __name__ == \"__main__\":\n",
        "  main()\n",
        "\n",
        ""
      ],
      "metadata": {
        "colab": {
          "base_uri": "https://localhost:8080/"
        },
        "id": "W_XWJdx-GFAz",
        "outputId": "9630aa58-b272-40ba-ec23-a44c2ea65cb2"
      },
      "execution_count": 105,
      "outputs": [
        {
          "output_type": "stream",
          "name": "stdout",
          "text": [
            "0 1 1 2 3 5 8 13 21 34 55 89 144 233 377 610 987 1597 2584 4181 6765 "
          ]
        }
      ]
    },
    {
      "cell_type": "markdown",
      "source": [
        "##02_print_events"
      ],
      "metadata": {
        "id": "F2nmphggJ8xs"
      }
    },
    {
      "cell_type": "code",
      "source": [
        "def main():\n",
        "  for evens in range(0,20):\n",
        "    print(evens * 2 , end=\" \")\n",
        "\n",
        "if __name__ == \"__main__\":\n",
        "  main()"
      ],
      "metadata": {
        "colab": {
          "base_uri": "https://localhost:8080/"
        },
        "id": "-_ufwXmqKBQq",
        "outputId": "b6bccd06-8ae7-4322-a8c7-02e4087238a6"
      },
      "execution_count": 108,
      "outputs": [
        {
          "output_type": "stream",
          "name": "stdout",
          "text": [
            "0 2 4 6 8 10 12 14 16 18 20 22 24 26 28 30 32 34 36 38 "
          ]
        }
      ]
    },
    {
      "cell_type": "markdown",
      "source": [
        "##03_wholesome_machine"
      ],
      "metadata": {
        "id": "V12LMyPkK7gM"
      }
    },
    {
      "cell_type": "code",
      "source": [
        "AFFIRMATION : str = \"I am capable of doing anything I put my mind to.\"\n",
        "\n",
        "def main():\n",
        "    print(\"Wholesome Machine 🤭\")\n",
        "    print(\"Warning ⚠️:Its world most hard typing speed checker \")\n",
        "    print(\"Rules:!!!\")\n",
        "    print(\"1️⃣ Type without watching ur keyboard\")\n",
        "    print(\"2️⃣ If u try to copy paste u are a monkey\")\n",
        "    print(\"Please type the following affirmation: \" + AFFIRMATION)\n",
        "\n",
        "    user_feedback = input()\n",
        "    while user_feedback != AFFIRMATION:\n",
        "        print(\"That was not the affirmation 👶🏻.\")\n",
        "        print(\"Please type the following affirmation: \" + AFFIRMATION)\n",
        "        user_feedback = input()\n",
        "\n",
        "    print(\"That's right! ✅ You are now able to hack nasa using this line :)\")\n",
        "\n",
        "if __name__ == '__main__':\n",
        "    main()"
      ],
      "metadata": {
        "colab": {
          "base_uri": "https://localhost:8080/"
        },
        "id": "qB-k61w4K_jS",
        "outputId": "a5d3549a-31d1-4326-c473-f3e06f27c17f"
      },
      "execution_count": 110,
      "outputs": [
        {
          "output_type": "stream",
          "name": "stdout",
          "text": [
            "Wholesome Machine 🤭\n",
            "Warning:Its world most hard typing speed checker \n",
            "Please type the following affirmation: I am capable of doing anything I put my mind to.\n",
            "I am capable of doing anything I put my mind to .\n",
            "That was not the affirmation 👶🏻 .\n",
            "Please type the following affirmation: I am capable of doing anything I put my mind to.\n",
            "I am capable of doing anything I put my mind to.\n",
            "That's right! ✅ You are now able to hack nasa using this line :)\n"
          ]
        }
      ]
    },
    {
      "cell_type": "markdown",
      "source": [
        "##04_liftoff"
      ],
      "metadata": {
        "id": "Xzuhj02XM0eA"
      }
    },
    {
      "cell_type": "code",
      "source": [
        "import time\n",
        "def main():\n",
        "  for rev_count in range(10,0,-1):\n",
        "    print( rev_count, end=\" \")\n",
        "    time.sleep(1)\n",
        "    # print(10 - rev_count, end=\" \")\n",
        "    if rev_count == 1:\n",
        "      print(\"Liftoff 🚀\")\n",
        "\n",
        "\n",
        "if __name__ == \"__main__\":\n",
        "  main()\n",
        "\n",
        "# main()"
      ],
      "metadata": {
        "colab": {
          "base_uri": "https://localhost:8080/"
        },
        "id": "PA4RzdD_M46i",
        "outputId": "fd599595-c22f-4cd6-d1c0-6e73a293f4bb"
      },
      "execution_count": 122,
      "outputs": [
        {
          "output_type": "stream",
          "name": "stdout",
          "text": [
            "10 9 8 7 6 5 4 3 2 1 Liftoff 🚀\n"
          ]
        }
      ]
    },
    {
      "cell_type": "markdown",
      "source": [
        "##05_double_it"
      ],
      "metadata": {
        "id": "twDZ7mL5PMSK"
      }
    },
    {
      "cell_type": "code",
      "source": [
        "def paisa_double():\n",
        "  max_lim = 128\n",
        "  user_money = int(input(\"Enter a number (amount) to double it\"))\n",
        "  while  user_money < max_lim:\n",
        "    user_money *= 2\n",
        "    print(user_money , end=\" \")\n",
        "\n",
        "if __name__ == \"__main__\":\n",
        "  paisa_double()\n"
      ],
      "metadata": {
        "colab": {
          "base_uri": "https://localhost:8080/"
        },
        "id": "oi7PWjOtPUk7",
        "outputId": "d5624eff-5302-41e8-89c0-92f5ec35ca22"
      },
      "execution_count": 132,
      "outputs": [
        {
          "output_type": "stream",
          "name": "stdout",
          "text": [
            "Enter a number (amount) to double it2\n",
            "4 8 16 32 64 128 "
          ]
        }
      ]
    }
  ]
}